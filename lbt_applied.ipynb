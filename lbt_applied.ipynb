{
 "cells": [
  {
   "cell_type": "code",
   "execution_count": 1,
   "metadata": {},
   "outputs": [],
   "source": [
    "from anytree import Node, RenderTree, NodeMixin, search, PreOrderIter\n",
    "from scipy.stats import chi2_contingency\n",
    "import pandas as pd\n",
    "import numpy as np\n",
    "\n",
    "from optbinning import MulticlassOptimalBinning #http://gnpalencia.org/optbinning/binning_multiclass.html\n",
    "import rpy2.robjects as robjects\n",
    "from rpy2.robjects import pandas2ri\n",
    "from rpy2.robjects.conversion import localconverter\n",
    "import rpy2.rinterface as rinterface\n",
    "from rpy2.robjects.packages import importr, data\n",
    "from itertools import combinations\n",
    "\n",
    "from rpy2.robjects import pandas2ri\n",
    "\n",
    "from cart import *\n"
   ]
  },
  {
   "cell_type": "code",
   "execution_count": 2,
   "metadata": {},
   "outputs": [
    {
     "data": {
      "text/plain": [
       "'\\ntrain = pd.read_csv(\"Carseats_train.csv\")\\ntest = pd.read_csv(\"Carseats_test.csv\")\\nprint(train.shape)\\n\\nhigh_train = []\\n\\nfor i in range(train.shape[0]):\\n    if train[\"Sales\"][i] > 8:\\n        high_train.append(\"Yes\")\\n    else:\\n        high_train.append(\"No\")\\n\\ntrain[\"High\"] = high_train\\ndel train[\"Sales\"]\\ndel train[\"Unnamed: 0\"]\\n\\nindici = np.arange(0, len(high_train))\\n\\nhigh_test = []\\nfor i in range(test.shape[0]):\\n    if test[\"Sales\"][i] > 8:\\n        high_test.append(\"Yes\")\\n    else:\\n        high_test.append(\"No\")\\n\\ntest[\"High\"] = high_test\\ndel test[\"Sales\"]\\ndel test[\"Unnamed: 0\"]\\n\\nfeature_var = \"High\"\\nnum_var = [\"CompPrice\", \"Income\", \"Advertising\", \"Population\", \"Price\", \"Age\", \"Education\"]\\ncat_var = [\"ShelveLoc\", \"Urban\", \"US\"]\\n\\ndisplay(train.head())\\n\\n\\ny = train[\"High\"].copy()\\ndel train[\"High\"]\\nfeatures = train[num_var]\\nfeatures_names = num_var\\nn_features = train[cat_var]\\nn_features_names = cat_var\\n'"
      ]
     },
     "execution_count": 2,
     "metadata": {},
     "output_type": "execute_result"
    }
   ],
   "source": [
    "'''\n",
    "train = pd.read_csv(\"Carseats_train.csv\")\n",
    "test = pd.read_csv(\"Carseats_test.csv\")\n",
    "print(train.shape)\n",
    "\n",
    "high_train = []\n",
    "\n",
    "for i in range(train.shape[0]):\n",
    "    if train[\"Sales\"][i] > 8:\n",
    "        high_train.append(\"Yes\")\n",
    "    else:\n",
    "        high_train.append(\"No\")\n",
    "\n",
    "train[\"High\"] = high_train\n",
    "del train[\"Sales\"]\n",
    "del train[\"Unnamed: 0\"]\n",
    "\n",
    "indici = np.arange(0, len(high_train))\n",
    "\n",
    "high_test = []\n",
    "for i in range(test.shape[0]):\n",
    "    if test[\"Sales\"][i] > 8:\n",
    "        high_test.append(\"Yes\")\n",
    "    else:\n",
    "        high_test.append(\"No\")\n",
    "\n",
    "test[\"High\"] = high_test\n",
    "del test[\"Sales\"]\n",
    "del test[\"Unnamed: 0\"]\n",
    "\n",
    "feature_var = \"High\"\n",
    "num_var = [\"CompPrice\", \"Income\", \"Advertising\", \"Population\", \"Price\", \"Age\", \"Education\"]\n",
    "cat_var = [\"ShelveLoc\", \"Urban\", \"US\"]\n",
    "\n",
    "display(train.head())\n",
    "\n",
    "\n",
    "y = train[\"High\"].copy()\n",
    "del train[\"High\"]\n",
    "features = train[num_var]\n",
    "features_names = num_var\n",
    "n_features = train[cat_var]\n",
    "n_features_names = cat_var\n",
    "'''"
   ]
  },
  {
   "cell_type": "code",
   "execution_count": 3,
   "metadata": {},
   "outputs": [
    {
     "data": {
      "text/plain": [
       "'\\nmy_tree = MyNodeClass(\\'n1\\', indici) \\ncart = CART(y,features,features_names,n_features,n_features_names,impurity_fn = \"gini\",problem=\"classifier\",method = \"CART\",max_level = 10, min_cases_parent= 10,min_cases_child= 5) \\ncart.growing_tree(my_tree)\\ncart.print_tree() \\n'"
      ]
     },
     "execution_count": 3,
     "metadata": {},
     "output_type": "execute_result"
    }
   ],
   "source": [
    "'''\n",
    "my_tree = MyNodeClass('n1', indici) \n",
    "cart = CART(y,features,features_names,n_features,n_features_names,impurity_fn = \"gini\",problem=\"classifier\",method = \"CART\",max_level = 10, min_cases_parent= 10,min_cases_child= 5) \n",
    "cart.growing_tree(my_tree)\n",
    "cart.print_tree() \n",
    "'''"
   ]
  },
  {
   "cell_type": "code",
   "execution_count": 4,
   "metadata": {},
   "outputs": [],
   "source": [
    "#may need to bin numerical vars\n",
    "#i think only works for categorical vars or binned vars "
   ]
  },
  {
   "cell_type": "code",
   "execution_count": 5,
   "metadata": {},
   "outputs": [
    {
     "name": "stdout",
     "output_type": "stream",
     "text": [
      "(81086, 32)\n"
     ]
    },
    {
     "data": {
      "text/html": [
       "<div>\n",
       "<style scoped>\n",
       "    .dataframe tbody tr th:only-of-type {\n",
       "        vertical-align: middle;\n",
       "    }\n",
       "\n",
       "    .dataframe tbody tr th {\n",
       "        vertical-align: top;\n",
       "    }\n",
       "\n",
       "    .dataframe thead th {\n",
       "        text-align: right;\n",
       "    }\n",
       "</style>\n",
       "<table border=\"1\" class=\"dataframe\">\n",
       "  <thead>\n",
       "    <tr style=\"text-align: right;\">\n",
       "      <th></th>\n",
       "      <th>trip_id</th>\n",
       "      <th>household_id</th>\n",
       "      <th>person_n</th>\n",
       "      <th>trip_n</th>\n",
       "      <th>travel_mode</th>\n",
       "      <th>purpose</th>\n",
       "      <th>fueltype</th>\n",
       "      <th>faretype</th>\n",
       "      <th>bus_scale</th>\n",
       "      <th>survey_year</th>\n",
       "      <th>travel_year</th>\n",
       "      <th>travel_month</th>\n",
       "      <th>travel_date</th>\n",
       "      <th>day_of_week</th>\n",
       "      <th>start_time</th>\n",
       "      <th>age</th>\n",
       "      <th>female</th>\n",
       "      <th>driving_license</th>\n",
       "      <th>car_ownership</th>\n",
       "      <th>distance</th>\n",
       "      <th>dur_walking</th>\n",
       "      <th>dur_cycling</th>\n",
       "      <th>dur_pt_access</th>\n",
       "      <th>dur_pt_rail</th>\n",
       "      <th>dur_pt_bus</th>\n",
       "      <th>dur_pt_int</th>\n",
       "      <th>pt_interchanges</th>\n",
       "      <th>dur_driving</th>\n",
       "      <th>cost_transit</th>\n",
       "      <th>cost_driving_fuel</th>\n",
       "      <th>cost_driving_ccharge</th>\n",
       "      <th>driving_traffic_percent</th>\n",
       "    </tr>\n",
       "  </thead>\n",
       "  <tbody>\n",
       "    <tr>\n",
       "      <th>0</th>\n",
       "      <td>0</td>\n",
       "      <td>0</td>\n",
       "      <td>0</td>\n",
       "      <td>0</td>\n",
       "      <td>4</td>\n",
       "      <td>3</td>\n",
       "      <td>1</td>\n",
       "      <td>1</td>\n",
       "      <td>1.0</td>\n",
       "      <td>1</td>\n",
       "      <td>2012</td>\n",
       "      <td>4</td>\n",
       "      <td>1</td>\n",
       "      <td>7</td>\n",
       "      <td>10.000000</td>\n",
       "      <td>56</td>\n",
       "      <td>1</td>\n",
       "      <td>1</td>\n",
       "      <td>2</td>\n",
       "      <td>778</td>\n",
       "      <td>0.218056</td>\n",
       "      <td>0.092222</td>\n",
       "      <td>0.134444</td>\n",
       "      <td>0.0</td>\n",
       "      <td>0.016667</td>\n",
       "      <td>0.0</td>\n",
       "      <td>0</td>\n",
       "      <td>0.052222</td>\n",
       "      <td>1.5</td>\n",
       "      <td>0.14</td>\n",
       "      <td>0.0</td>\n",
       "      <td>0.111702</td>\n",
       "    </tr>\n",
       "    <tr>\n",
       "      <th>1</th>\n",
       "      <td>1</td>\n",
       "      <td>0</td>\n",
       "      <td>0</td>\n",
       "      <td>1</td>\n",
       "      <td>4</td>\n",
       "      <td>3</td>\n",
       "      <td>1</td>\n",
       "      <td>1</td>\n",
       "      <td>1.0</td>\n",
       "      <td>1</td>\n",
       "      <td>2012</td>\n",
       "      <td>4</td>\n",
       "      <td>1</td>\n",
       "      <td>7</td>\n",
       "      <td>13.000000</td>\n",
       "      <td>56</td>\n",
       "      <td>1</td>\n",
       "      <td>1</td>\n",
       "      <td>2</td>\n",
       "      <td>778</td>\n",
       "      <td>0.188889</td>\n",
       "      <td>0.061944</td>\n",
       "      <td>0.109444</td>\n",
       "      <td>0.0</td>\n",
       "      <td>0.055556</td>\n",
       "      <td>0.0</td>\n",
       "      <td>0</td>\n",
       "      <td>0.059444</td>\n",
       "      <td>1.5</td>\n",
       "      <td>0.15</td>\n",
       "      <td>0.0</td>\n",
       "      <td>0.112150</td>\n",
       "    </tr>\n",
       "    <tr>\n",
       "      <th>2</th>\n",
       "      <td>2</td>\n",
       "      <td>0</td>\n",
       "      <td>0</td>\n",
       "      <td>2</td>\n",
       "      <td>4</td>\n",
       "      <td>3</td>\n",
       "      <td>1</td>\n",
       "      <td>1</td>\n",
       "      <td>1.0</td>\n",
       "      <td>1</td>\n",
       "      <td>2012</td>\n",
       "      <td>4</td>\n",
       "      <td>1</td>\n",
       "      <td>7</td>\n",
       "      <td>17.000000</td>\n",
       "      <td>56</td>\n",
       "      <td>1</td>\n",
       "      <td>1</td>\n",
       "      <td>2</td>\n",
       "      <td>4562</td>\n",
       "      <td>1.037778</td>\n",
       "      <td>0.355833</td>\n",
       "      <td>0.203056</td>\n",
       "      <td>0.0</td>\n",
       "      <td>0.210278</td>\n",
       "      <td>0.0</td>\n",
       "      <td>0</td>\n",
       "      <td>0.236667</td>\n",
       "      <td>1.5</td>\n",
       "      <td>0.79</td>\n",
       "      <td>0.0</td>\n",
       "      <td>0.203052</td>\n",
       "    </tr>\n",
       "    <tr>\n",
       "      <th>3</th>\n",
       "      <td>3</td>\n",
       "      <td>0</td>\n",
       "      <td>0</td>\n",
       "      <td>3</td>\n",
       "      <td>4</td>\n",
       "      <td>3</td>\n",
       "      <td>1</td>\n",
       "      <td>1</td>\n",
       "      <td>1.0</td>\n",
       "      <td>1</td>\n",
       "      <td>2012</td>\n",
       "      <td>4</td>\n",
       "      <td>1</td>\n",
       "      <td>7</td>\n",
       "      <td>17.350000</td>\n",
       "      <td>56</td>\n",
       "      <td>1</td>\n",
       "      <td>1</td>\n",
       "      <td>2</td>\n",
       "      <td>4562</td>\n",
       "      <td>1.039444</td>\n",
       "      <td>0.384444</td>\n",
       "      <td>0.205556</td>\n",
       "      <td>0.0</td>\n",
       "      <td>0.258611</td>\n",
       "      <td>0.0</td>\n",
       "      <td>0</td>\n",
       "      <td>0.233333</td>\n",
       "      <td>1.5</td>\n",
       "      <td>0.78</td>\n",
       "      <td>0.0</td>\n",
       "      <td>0.160714</td>\n",
       "    </tr>\n",
       "    <tr>\n",
       "      <th>4</th>\n",
       "      <td>4</td>\n",
       "      <td>0</td>\n",
       "      <td>1</td>\n",
       "      <td>2</td>\n",
       "      <td>4</td>\n",
       "      <td>3</td>\n",
       "      <td>1</td>\n",
       "      <td>4</td>\n",
       "      <td>1.0</td>\n",
       "      <td>1</td>\n",
       "      <td>2012</td>\n",
       "      <td>4</td>\n",
       "      <td>1</td>\n",
       "      <td>7</td>\n",
       "      <td>19.583333</td>\n",
       "      <td>54</td>\n",
       "      <td>0</td>\n",
       "      <td>1</td>\n",
       "      <td>2</td>\n",
       "      <td>4562</td>\n",
       "      <td>1.037778</td>\n",
       "      <td>0.355833</td>\n",
       "      <td>0.203056</td>\n",
       "      <td>0.0</td>\n",
       "      <td>0.189444</td>\n",
       "      <td>0.0</td>\n",
       "      <td>0</td>\n",
       "      <td>0.229167</td>\n",
       "      <td>1.5</td>\n",
       "      <td>0.78</td>\n",
       "      <td>0.0</td>\n",
       "      <td>0.130909</td>\n",
       "    </tr>\n",
       "  </tbody>\n",
       "</table>\n",
       "</div>"
      ],
      "text/plain": [
       "   trip_id  household_id  person_n  trip_n  travel_mode  purpose  fueltype  \\\n",
       "0        0             0         0       0            4        3         1   \n",
       "1        1             0         0       1            4        3         1   \n",
       "2        2             0         0       2            4        3         1   \n",
       "3        3             0         0       3            4        3         1   \n",
       "4        4             0         1       2            4        3         1   \n",
       "\n",
       "   faretype  bus_scale  survey_year  travel_year  travel_month  travel_date  \\\n",
       "0         1        1.0            1         2012             4            1   \n",
       "1         1        1.0            1         2012             4            1   \n",
       "2         1        1.0            1         2012             4            1   \n",
       "3         1        1.0            1         2012             4            1   \n",
       "4         4        1.0            1         2012             4            1   \n",
       "\n",
       "   day_of_week  start_time  age  female  driving_license  car_ownership  \\\n",
       "0            7   10.000000   56       1                1              2   \n",
       "1            7   13.000000   56       1                1              2   \n",
       "2            7   17.000000   56       1                1              2   \n",
       "3            7   17.350000   56       1                1              2   \n",
       "4            7   19.583333   54       0                1              2   \n",
       "\n",
       "   distance  dur_walking  dur_cycling  dur_pt_access  dur_pt_rail  dur_pt_bus  \\\n",
       "0       778     0.218056     0.092222       0.134444          0.0    0.016667   \n",
       "1       778     0.188889     0.061944       0.109444          0.0    0.055556   \n",
       "2      4562     1.037778     0.355833       0.203056          0.0    0.210278   \n",
       "3      4562     1.039444     0.384444       0.205556          0.0    0.258611   \n",
       "4      4562     1.037778     0.355833       0.203056          0.0    0.189444   \n",
       "\n",
       "   dur_pt_int  pt_interchanges  dur_driving  cost_transit  cost_driving_fuel  \\\n",
       "0         0.0                0     0.052222           1.5               0.14   \n",
       "1         0.0                0     0.059444           1.5               0.15   \n",
       "2         0.0                0     0.236667           1.5               0.79   \n",
       "3         0.0                0     0.233333           1.5               0.78   \n",
       "4         0.0                0     0.229167           1.5               0.78   \n",
       "\n",
       "   cost_driving_ccharge  driving_traffic_percent  \n",
       "0                   0.0                 0.111702  \n",
       "1                   0.0                 0.112150  \n",
       "2                   0.0                 0.203052  \n",
       "3                   0.0                 0.160714  \n",
       "4                   0.0                 0.130909  "
      ]
     },
     "execution_count": 5,
     "metadata": {},
     "output_type": "execute_result"
    }
   ],
   "source": [
    "pd.options.display.max_columns = None\n",
    "dataframe = pd.read_table('lpmc.dat')\n",
    "print(dataframe.shape)\n",
    "dataframe.head()"
   ]
  },
  {
   "cell_type": "code",
   "execution_count": 6,
   "metadata": {},
   "outputs": [],
   "source": [
    "#binning age\n",
    "\n",
    "groupDict={'0-18':0,'19-30':0,'31-65':0, '66+': 0}\n",
    "\n",
    "for i in dataframe['age']:\n",
    "    if i>=0 and i<=10:\n",
    "        groupDict['0-18']+=1\n",
    "    elif i>=19 and i<=30:\n",
    "        groupDict['19-30']+=1\n",
    "    elif i>=31 and i<=65:\n",
    "        groupDict['31-65']+=1\n",
    "    else:\n",
    "        groupDict['66+']+=1\n",
    "\n",
    "dataframe.loc[dataframe['age']<=18, 'age_group'] = '0-18'\n",
    "dataframe.loc[dataframe['age'].between(19,30), 'age_group'] = '19-30'\n",
    "dataframe.loc[dataframe['age'].between(31,65), 'age_group'] = '31-65'\n",
    "dataframe.loc[dataframe['age']>65, 'age_group'] = '66+'\n",
    "dataframe.drop(['age'], axis= 1, inplace = True)\n",
    "\n",
    "\n",
    "#binning distance\n",
    "\n",
    "dataframe.loc[dataframe['distance']< 658.50, 'distance_group'] = 'distance01'\n",
    "dataframe.loc[dataframe['distance'].between(658.50,861.49), 'distance_group'] = 'distance02'\n",
    "dataframe.loc[dataframe['distance'].between(861.50,1214.49), 'distance_group'] = 'distance03'\n",
    "dataframe.loc[dataframe['distance'].between(1214.50,1514.49 ), 'distance_group'] = 'distance04'\n",
    "dataframe.loc[dataframe['distance'].between(1514.50, 2156.49), 'distance_group'] = 'distance05'\n",
    "dataframe.loc[dataframe['distance'].between(2156.50, 2759.49), 'distance_group'] = 'distance06'\n",
    "dataframe.loc[dataframe['distance'].between(2759.50, 4391.49), 'distance_group'] = 'distance07'\n",
    "dataframe.loc[dataframe['distance'].between(4391.50, 5369.49), 'distance_group'] = 'distance08'\n",
    "dataframe.loc[dataframe['distance'].between(5369.50, 10087.49), 'distance_group'] = 'distance09'\n",
    "dataframe.loc[dataframe['distance'].between(10087.50, 14695.49), 'distance_group'] = 'distance10'\n",
    "dataframe.loc[dataframe['distance']>=14695.50, 'distance_group'] = 'distance11'\n",
    "dataframe.drop('distance', axis = 1, inplace = True)\n",
    "\n",
    "#binning start time\n",
    "\n",
    "dataframe.loc[dataframe['start_time']<8.091666, 'starttime_group'] = 'early_morning'\n",
    "dataframe.loc[dataframe['start_time'].between(8.091666,10.00833320), 'starttime_group'] = 'morning'\n",
    "dataframe.loc[dataframe['start_time'].between(10.008333211,18.50833320), 'starttime_group'] = 'afternoon'\n",
    "dataframe.loc[dataframe['start_time']> 18.50833321, 'starttime_group'] = 'evening'\n",
    "dataframe.drop('start_time', axis = 1, inplace = True)\n",
    "\n",
    "#binning cost transit\n",
    "\n",
    "dataframe.loc[dataframe['cost_transit']< 1.52499998, 'cost_group'] = 'low_cost'\n",
    "dataframe.loc[dataframe['cost_transit'].between(1.52499998,3.01999997), 'cost_group'] = 'medium_cost'\n",
    "dataframe.loc[dataframe['cost_transit']> 3.01999998, 'cost_group'] = 'high_cost'\n",
    "dataframe.drop('cost_transit', axis = 1, inplace = True)\n",
    "\n",
    "#binning cost_driving_Fuel\n",
    "\n",
    "dataframe.loc[dataframe['cost_driving_fuel']< 0.165, 'costdrivingfuel_group'] = 'costdrivingfuelgroup1'\n",
    "dataframe.loc[dataframe['cost_driving_fuel'].between(0.165,0.204), 'costdrivingfuel_group'] = 'costdrivingfuelgroup2'\n",
    "dataframe.loc[dataframe['cost_driving_fuel'].between(0.205,0.244), 'costdrivingfuel_group'] = 'costdrivingfuelgroup3'\n",
    "dataframe.loc[dataframe['cost_driving_fuel'].between(0.245, 0.294), 'costdrivingfuel_group'] = 'costdrivingfuelgroup4'\n",
    "dataframe.loc[dataframe['cost_driving_fuel'].between(0.295, 0.354), 'costdrivingfuel_group'] = 'costdrivingfuelgroup5'\n",
    "dataframe.loc[dataframe['cost_driving_fuel'].between(0.355, 0.44499998), 'costdrivingfuel_group'] = 'costdrivingfuelgroup6'\n",
    "dataframe.loc[dataframe['cost_driving_fuel'].between(0.44499999, 0.83499997), 'costdrivingfuel_group'] = 'costdrivingfuelgroup7'\n",
    "dataframe.loc[dataframe['cost_driving_fuel'].between(0.83499998, 1.17499994), 'costdrivingfuel_group'] = 'costdrivingfuelgroup8'\n",
    "dataframe.loc[dataframe['cost_driving_fuel'].between(1.17499995, 2.31499993), 'costdrivingfuel_group'] = 'costdrivingfuelgroup9'\n",
    "dataframe.loc[dataframe['cost_driving_fuel']> 2.31499994, 'costdrivingfuel_group'] = 'costdrivingfuelgroup10'\n",
    "dataframe.drop('cost_driving_fuel', axis = 1, inplace = True)\n",
    "\n",
    "#binning driving traddic percent\n",
    "\n",
    "dataframe.loc[dataframe['driving_traffic_percent']< 0.24422751, 'trafficperc_group'] = '0low_traffic'\n",
    "dataframe.loc[dataframe['driving_traffic_percent'].between(0.24422751,0.36449698), 'trafficperc_group'] = '1mediumlow_traffic'\n",
    "dataframe.loc[dataframe['driving_traffic_percent'].between(0.36449699,0.49620750), 'trafficperc_group'] = '2medium_traffic'\n",
    "dataframe.loc[dataframe['driving_traffic_percent'].between(0.49620751, 0.57161700), 'trafficperc_group'] = '3mediumhigh_traffic'\n",
    "dataframe.loc[dataframe['driving_traffic_percent']> 0.57161701, 'trafficperc_group'] = '4high_traffic'\n",
    "dataframe.drop('driving_traffic_percent', axis = 1, inplace = True)\n",
    "\n",
    "#binning cost_driving_ccharge\n",
    "\n",
    "dataframe.loc[dataframe['cost_driving_ccharge']< 5.25, 'drivingcharge_group'] = 'low_charge'\n",
    "dataframe.loc[dataframe['cost_driving_ccharge']> 5.25, 'drivingcharge_group'] = 'high_charge'\n",
    "dataframe.drop('cost_driving_ccharge', axis = 1, inplace = True)"
   ]
  },
  {
   "cell_type": "code",
   "execution_count": 7,
   "metadata": {},
   "outputs": [
    {
     "name": "stdout",
     "output_type": "stream",
     "text": [
      "{2012, 2013, 2014, 2015}\n",
      "Number of columns dropped: 12\n",
      "Index(['purpose', 'fueltype', 'faretype', 'bus_scale', 'travel_month',\n",
      "       'day_of_week', 'female', 'driving_license', 'car_ownership',\n",
      "       'pt_interchanges', 'age_group', 'distance_group', 'starttime_group',\n",
      "       'cost_group', 'costdrivingfuel_group', 'trafficperc_group',\n",
      "       'drivingcharge_group'],\n",
      "      dtype='object')\n"
     ]
    }
   ],
   "source": [
    "y = dataframe[['travel_mode', 'travel_year']]\n",
    "X = dataframe.drop(['travel_mode', 'survey_year'], axis = 1)\n",
    "\n",
    "print(set(X[\"travel_year\"]))\n",
    "\n",
    "a = X.loc[X[\"travel_year\"]==2015]\n",
    "#creating test set \n",
    "\n",
    "X_test= X.query('travel_year == 2015') #creates a subset, like this: X.loc[X[\"travel_year\"]==2015]\n",
    "y_test = y.query('travel_year == 2015')\n",
    "\n",
    "X_test = X_test.drop(['travel_year'], axis =1).copy()\n",
    "y_test = y_test.drop(['travel_year'], axis =1).copy()\n",
    "\n",
    "#create training set \n",
    "\n",
    "X_train_1 = X.query('travel_year == 2012')\n",
    "y_train_1 = y.query('travel_year == 2012')\n",
    "X_train_2 = X.query('travel_year == 2013')\n",
    "y_train_2 = y.query('travel_year == 2013')\n",
    "X_train_3 = X.query('travel_year == 2014')\n",
    "y_train_3 = y.query('travel_year == 2014')\n",
    "\n",
    "X_train = pd.concat([X_train_1, X_train_2, X_train_3])\n",
    "y_train = pd.concat([y_train_1, y_train_2, y_train_3])\n",
    "\n",
    "X_train = X_train.drop(['travel_year'], axis = 1)\n",
    "y_train = y_train.drop(['travel_year'], axis = 1)\n",
    "\n",
    "\n",
    "data_to_shuffle = pd.concat([X_train, y_train], axis = 1)\n",
    "data = data_to_shuffle.sample(frac=1).reset_index(drop=True) #sampling returning all, and resetting index , no seed?\n",
    "y_train = data['travel_mode']\n",
    "X_train = data.drop(['travel_mode'], axis = 1)\n",
    "\n",
    "#feature selection\n",
    "\n",
    "to_drop = ['trip_id', 'household_id', 'person_n', 'trip_n', 'travel_date', 'dur_pt_int',\n",
    "          'dur_pt_rail', 'dur_pt_access', 'dur_pt_bus', 'dur_walking', 'dur_cycling', 'dur_driving']\n",
    "print(f'Number of columns dropped: {len(to_drop)}')\n",
    "X_train.drop(to_drop, axis = 1, inplace = True)\n",
    "\n",
    "X_test.drop(to_drop, axis = 1, inplace = True)\n",
    "\n",
    "predictors = X_test.columns\n",
    "y = y_test #is the whole vector\n",
    "print(predictors)\n",
    "\n",
    "datatest = pd.concat([y_test, X_test], axis = 1).reset_index()\n",
    "datatest.drop('index', axis = 1, inplace = True)\n",
    "datatest.to_csv(\"data_test.csv\", index = False)\n",
    "\n",
    "datatraining = pd.concat([y_train, X_train], axis = 1).reset_index()\n",
    "datatraining.drop('index', axis = 1, inplace = True)\n",
    "datatraining.to_csv(\"data_training.csv\", index = False)\n"
   ]
  },
  {
   "cell_type": "code",
   "execution_count": 8,
   "metadata": {},
   "outputs": [
    {
     "data": {
      "text/plain": [
       "0        1\n",
       "1        3\n",
       "2        4\n",
       "3        4\n",
       "4        4\n",
       "        ..\n",
       "76098    1\n",
       "76099    4\n",
       "76100    4\n",
       "76101    3\n",
       "76102    4\n",
       "Name: travel_mode, Length: 76103, dtype: int64"
      ]
     },
     "metadata": {},
     "output_type": "display_data"
    },
    {
     "name": "stdout",
     "output_type": "stream",
     "text": [
      "(76103, 17)\n"
     ]
    },
    {
     "data": {
      "text/html": [
       "<div>\n",
       "<style scoped>\n",
       "    .dataframe tbody tr th:only-of-type {\n",
       "        vertical-align: middle;\n",
       "    }\n",
       "\n",
       "    .dataframe tbody tr th {\n",
       "        vertical-align: top;\n",
       "    }\n",
       "\n",
       "    .dataframe thead th {\n",
       "        text-align: right;\n",
       "    }\n",
       "</style>\n",
       "<table border=\"1\" class=\"dataframe\">\n",
       "  <thead>\n",
       "    <tr style=\"text-align: right;\">\n",
       "      <th></th>\n",
       "      <th>purpose</th>\n",
       "      <th>fueltype</th>\n",
       "      <th>faretype</th>\n",
       "      <th>bus_scale</th>\n",
       "      <th>travel_month</th>\n",
       "      <th>day_of_week</th>\n",
       "      <th>female</th>\n",
       "      <th>driving_license</th>\n",
       "      <th>car_ownership</th>\n",
       "      <th>pt_interchanges</th>\n",
       "      <th>age_group</th>\n",
       "      <th>distance_group</th>\n",
       "      <th>starttime_group</th>\n",
       "      <th>cost_group</th>\n",
       "      <th>costdrivingfuel_group</th>\n",
       "      <th>trafficperc_group</th>\n",
       "      <th>drivingcharge_group</th>\n",
       "    </tr>\n",
       "  </thead>\n",
       "  <tbody>\n",
       "    <tr>\n",
       "      <th>0</th>\n",
       "      <td>3</td>\n",
       "      <td>2</td>\n",
       "      <td>1</td>\n",
       "      <td>1.0</td>\n",
       "      <td>12</td>\n",
       "      <td>6</td>\n",
       "      <td>1</td>\n",
       "      <td>1</td>\n",
       "      <td>2</td>\n",
       "      <td>0</td>\n",
       "      <td>31-65</td>\n",
       "      <td>distance01</td>\n",
       "      <td>early_morning</td>\n",
       "      <td>low_cost</td>\n",
       "      <td>costdrivingfuelgroup1</td>\n",
       "      <td>0low_traffic</td>\n",
       "      <td>low_charge</td>\n",
       "    </tr>\n",
       "    <tr>\n",
       "      <th>1</th>\n",
       "      <td>3</td>\n",
       "      <td>6</td>\n",
       "      <td>5</td>\n",
       "      <td>0.0</td>\n",
       "      <td>4</td>\n",
       "      <td>5</td>\n",
       "      <td>1</td>\n",
       "      <td>0</td>\n",
       "      <td>0</td>\n",
       "      <td>1</td>\n",
       "      <td>66+</td>\n",
       "      <td>distance06</td>\n",
       "      <td>afternoon</td>\n",
       "      <td>low_cost</td>\n",
       "      <td>costdrivingfuelgroup6</td>\n",
       "      <td>2medium_traffic</td>\n",
       "      <td>low_charge</td>\n",
       "    </tr>\n",
       "    <tr>\n",
       "      <th>2</th>\n",
       "      <td>3</td>\n",
       "      <td>6</td>\n",
       "      <td>1</td>\n",
       "      <td>1.0</td>\n",
       "      <td>10</td>\n",
       "      <td>5</td>\n",
       "      <td>1</td>\n",
       "      <td>1</td>\n",
       "      <td>2</td>\n",
       "      <td>0</td>\n",
       "      <td>31-65</td>\n",
       "      <td>distance06</td>\n",
       "      <td>afternoon</td>\n",
       "      <td>low_cost</td>\n",
       "      <td>costdrivingfuelgroup6</td>\n",
       "      <td>2medium_traffic</td>\n",
       "      <td>low_charge</td>\n",
       "    </tr>\n",
       "    <tr>\n",
       "      <th>3</th>\n",
       "      <td>3</td>\n",
       "      <td>1</td>\n",
       "      <td>1</td>\n",
       "      <td>1.0</td>\n",
       "      <td>10</td>\n",
       "      <td>6</td>\n",
       "      <td>1</td>\n",
       "      <td>1</td>\n",
       "      <td>2</td>\n",
       "      <td>2</td>\n",
       "      <td>31-65</td>\n",
       "      <td>distance11</td>\n",
       "      <td>evening</td>\n",
       "      <td>high_cost</td>\n",
       "      <td>costdrivingfuelgroup10</td>\n",
       "      <td>2medium_traffic</td>\n",
       "      <td>low_charge</td>\n",
       "    </tr>\n",
       "    <tr>\n",
       "      <th>4</th>\n",
       "      <td>3</td>\n",
       "      <td>6</td>\n",
       "      <td>1</td>\n",
       "      <td>1.0</td>\n",
       "      <td>5</td>\n",
       "      <td>3</td>\n",
       "      <td>0</td>\n",
       "      <td>1</td>\n",
       "      <td>2</td>\n",
       "      <td>0</td>\n",
       "      <td>31-65</td>\n",
       "      <td>distance03</td>\n",
       "      <td>evening</td>\n",
       "      <td>low_cost</td>\n",
       "      <td>costdrivingfuelgroup5</td>\n",
       "      <td>0low_traffic</td>\n",
       "      <td>low_charge</td>\n",
       "    </tr>\n",
       "  </tbody>\n",
       "</table>\n",
       "</div>"
      ],
      "text/plain": [
       "   purpose  fueltype  faretype  bus_scale  travel_month  day_of_week  female  \\\n",
       "0        3         2         1        1.0            12            6       1   \n",
       "1        3         6         5        0.0             4            5       1   \n",
       "2        3         6         1        1.0            10            5       1   \n",
       "3        3         1         1        1.0            10            6       1   \n",
       "4        3         6         1        1.0             5            3       0   \n",
       "\n",
       "   driving_license  car_ownership  pt_interchanges age_group distance_group  \\\n",
       "0                1              2                0     31-65     distance01   \n",
       "1                0              0                1       66+     distance06   \n",
       "2                1              2                0     31-65     distance06   \n",
       "3                1              2                2     31-65     distance11   \n",
       "4                1              2                0     31-65     distance03   \n",
       "\n",
       "  starttime_group cost_group   costdrivingfuel_group trafficperc_group  \\\n",
       "0   early_morning   low_cost   costdrivingfuelgroup1      0low_traffic   \n",
       "1       afternoon   low_cost   costdrivingfuelgroup6   2medium_traffic   \n",
       "2       afternoon   low_cost   costdrivingfuelgroup6   2medium_traffic   \n",
       "3         evening  high_cost  costdrivingfuelgroup10   2medium_traffic   \n",
       "4         evening   low_cost   costdrivingfuelgroup5      0low_traffic   \n",
       "\n",
       "  drivingcharge_group  \n",
       "0          low_charge  \n",
       "1          low_charge  \n",
       "2          low_charge  \n",
       "3          low_charge  \n",
       "4          low_charge  "
      ]
     },
     "execution_count": 8,
     "metadata": {},
     "output_type": "execute_result"
    }
   ],
   "source": [
    "display(y_train)\n",
    "print(X_train.shape)\n",
    "X_train.head()"
   ]
  },
  {
   "cell_type": "code",
   "execution_count": 9,
   "metadata": {},
   "outputs": [],
   "source": [
    "X_train.reset_index(inplace = True, drop = True)\n",
    "y_train.reset_index(inplace = True, drop = True)\n",
    "\n",
    "X_train=X_train.applymap(str)\n",
    "#y_train=y_train.astype(str)\n",
    "\n",
    "n_features = X_train\n",
    "n_features_names = list(X_train.columns)\n",
    "indici = np.arange(0, len(y_train))\n",
    "y = y_train\n",
    "\n",
    "\n",
    "\n"
   ]
  },
  {
   "cell_type": "code",
   "execution_count": 10,
   "metadata": {},
   "outputs": [],
   "source": [
    "#need to bin num vars and have features, features_names empty\n",
    "\n",
    "#reched tau at each new split\n",
    "\n",
    "\n",
    "#not doing optbinning internally  maybe could\n",
    "\n",
    "features = []\n",
    "features_names = []\n",
    "\n",
    "\n",
    "#features, features_names, n_features, n_features_names, y"
   ]
  },
  {
   "attachments": {},
   "cell_type": "markdown",
   "metadata": {},
   "source": [
    "negative node prop gain?\n",
    "\n",
    "why its selecting only 1 group for splits??\n",
    "\n",
    "max_k as a suser input\n",
    "\n",
    "next things!"
   ]
  },
  {
   "cell_type": "code",
   "execution_count": 11,
   "metadata": {},
   "outputs": [
    {
     "name": "stdout",
     "output_type": "stream",
     "text": [
      "level 0\n",
      "ordered_list [(0.15474918705089039, 'distance_group'), (0.14617035023980365, 'car_ownership'), (0.1379897440993309, 'costdrivingfuel_group'), (0.12264490922414328, 'fueltype'), (0.09215576558991657, 'trafficperc_group'), (0.049534112303858235, 'drivingcharge_group'), (0.04715656948131236, 'driving_license'), (0.03798279928412857, 'cost_group'), (0.02975188421267667, 'pt_interchanges'), (0.02915094880544687, 'purpose'), (0.01466356106872606, 'age_group'), (0.010830641084993264, 'faretype'), (0.009374727190879659, 'day_of_week'), (0.009200017796845624, 'starttime_group'), (0.005664939369277348, 'bus_scale'), (0.0013902898247796828, 'travel_month'), (0.0004468587610848126, 'female')]\n",
      "[['distance04', 'distance05', 'distance06', 'distance07', 'distance08', 'distance09', 'distance10', 'distance11'], ['0'], ['costdrivingfuelgroup10', 'costdrivingfuelgroup4', 'costdrivingfuelgroup5', 'costdrivingfuelgroup6', 'costdrivingfuelgroup7', 'costdrivingfuelgroup8', 'costdrivingfuelgroup9'], ['1', '2', '3', '4', '5']] [-0.04655423, -6.869e-05, -0.03738646, -0.0074556] ['distance_group', 'car_ownership', 'costdrivingfuel_group', 'fueltype'] 1\n",
      "i find new_split :  [['car_ownership', ['0'], 6.869e-05, 0]] start\n",
      "node_proportion_total  2.3077407093437725e-05\n",
      "level 1\n",
      "ordered_list [(0.15304782411514026, 'distance_group'), (0.1375267106511083, 'costdrivingfuel_group'), (0.09920231284898244, 'trafficperc_group'), (0.07369176277151397, 'drivingcharge_group'), (0.04184059734243921, 'cost_group'), (0.034880390151760296, 'purpose'), (0.02550510424493086, 'pt_interchanges'), (0.021026618952511216, 'driving_license'), (0.01955184878981738, 'car_ownership'), (0.016388282131778134, 'faretype'), (0.012694262945118417, 'day_of_week'), (0.01166598960510399, 'starttime_group'), (0.010209006007757607, 'age_group'), (0.0031237144292048436, 'fueltype'), (0.0024985397823132378, 'bus_scale'), (0.0011352581779682377, 'travel_month'), (0.00040941259727698753, 'female')]\n",
      "[['distance04', 'distance05', 'distance06', 'distance07', 'distance08', 'distance09', 'distance10', 'distance11']] [-0.09429004] ['distance_group'] 0\n",
      "i find new_split :  [['distance_group', ['distance04', 'distance05', 'distance06', 'distance07', 'distance08', 'distance09', 'distance10', 'distance11'], 0.09429004, 1]] left\n",
      "node_proportion_total  3.2636574533932044e-05\n",
      "Node_proportion_gain  -1.1953565153042365\n",
      "level 2\n"
     ]
    },
    {
     "name": "stderr",
     "output_type": "stream",
     "text": [
      "R[write to console]: Error in solve.default(Tb) : 'a' (1 x 2) must be square\n",
      "\n"
     ]
    },
    {
     "name": "stdout",
     "output_type": "stream",
     "text": [
      "ordered_list [(0.08367221000102512, 'distance_group'), (0.038060766159101686, 'costdrivingfuel_group'), (0.020920702240592094, 'trafficperc_group'), (0.019989210163592064, 'driving_license'), (0.016468831049876363, 'drivingcharge_group'), (0.01491752744803404, 'car_ownership'), (0.012381603988868875, 'purpose'), (0.009840454196319171, 'age_group'), (0.008980562470867872, 'faretype'), (0.007917728520891442, 'starttime_group'), (0.004403243434644251, 'bus_scale'), (0.004134420975967916, 'travel_month'), (0.004022707711027999, 'fueltype'), (0.0027118352912042874, 'cost_group'), (0.002352104384773975, 'day_of_week'), (0.0003734202552757896, 'female'), (0.00016933325160391208, 'pt_interchanges')]\n",
      "Error in LBA function\n",
      "[['costdrivingfuelgroup1', 'costdrivingfuelgroup10', 'costdrivingfuelgroup2', 'costdrivingfuelgroup3', 'costdrivingfuelgroup4', 'costdrivingfuelgroup5', 'costdrivingfuelgroup6', 'costdrivingfuelgroup7', 'costdrivingfuelgroup8']] [-0.29527707] ['costdrivingfuel_group'] 0\n",
      "i find new_split :  [['costdrivingfuel_group', ['costdrivingfuelgroup1', 'costdrivingfuelgroup10', 'costdrivingfuelgroup2', 'costdrivingfuelgroup3', 'costdrivingfuelgroup4', 'costdrivingfuelgroup5', 'costdrivingfuelgroup6', 'costdrivingfuelgroup7', 'costdrivingfuelgroup8'], 0.29527707, 2]] left\n",
      "node_proportion_total  3.263121237713744e-05\n",
      "Node_proportion_gain  0.0006705279618153259\n",
      "This split isn't good now i cut it\n",
      "level 2\n",
      "ordered_list [(0.14228900335355846, 'trafficperc_group'), (0.10752330534963885, 'drivingcharge_group'), (0.073250205260206, 'costdrivingfuel_group'), (0.07148739034714352, 'distance_group'), (0.0440701902726773, 'purpose'), (0.0422960556241444, 'cost_group'), (0.02567445371022786, 'car_ownership'), (0.0247002818476158, 'driving_license'), (0.02399172027671413, 'faretype'), (0.019915197900357232, 'day_of_week'), (0.014082147703494674, 'age_group'), (0.012829468884783318, 'starttime_group'), (0.00969302761815676, 'pt_interchanges'), (0.003572909161665694, 'fueltype'), (0.0030531222996087394, 'bus_scale'), (0.0012129388976885077, 'travel_month'), (0.00045907210572874286, 'female')]\n",
      "[['0low_traffic', '1mediumlow_traffic', '2medium_traffic']] [-0.00176536] ['trafficperc_group'] 0\n",
      "i find new_split :  [['trafficperc_group', ['0low_traffic', '1mediumlow_traffic', '2medium_traffic'], 0.00176536, 2]] right\n",
      "node_proportion_total  4.1775116897578164e-05\n",
      "Node_proportion_gain  -1.1434286418633408\n",
      "level 3\n",
      "level 3\n",
      "level 1\n",
      "ordered_list [(0.3154626538317713, 'distance_group'), (0.28145993414938664, 'costdrivingfuel_group'), (0.0698763822391922, 'pt_interchanges'), (0.06160448774442011, 'cost_group'), (0.05631562337952149, 'trafficperc_group'), (0.0356715314464862, 'purpose'), (0.010921796096481825, 'starttime_group'), (0.009873793597130299, 'drivingcharge_group'), (0.004666808260456861, 'day_of_week'), (0.0025611408331474893, 'bus_scale'), (0.0023553927518504838, 'age_group'), (0.001909282680187586, 'faretype'), (0.0015002479045900196, 'driving_license'), (0.0014723882874764233, 'travel_month'), (0.0012933442771625313, 'female'), (-1.0255754285921361e-16, 'fueltype'), (-1.0255754285921361e-16, 'car_ownership')]\n",
      "[['distance04', 'distance05', 'distance06', 'distance07', 'distance08', 'distance09', 'distance10', 'distance11']] [-0.00906386] ['distance_group'] 0\n",
      "i find new_split :  [['distance_group', ['distance04', 'distance05', 'distance06', 'distance07', 'distance08', 'distance09', 'distance10', 'distance11'], 0.00906386, 1]] right\n",
      "node_proportion_total  4.8685181616087125e-05\n",
      "Node_proportion_gain  -0.8640910344820243\n",
      "level 2\n",
      "ordered_list [(0.07498349605585758, 'distance_group'), (0.055144322238680744, 'age_group'), (0.05511964460710904, 'faretype'), (0.04947132138076373, 'bus_scale'), (0.02923387699715806, 'costdrivingfuel_group'), (0.025202634436386383, 'purpose'), (0.00732338228913065, 'drivingcharge_group'), (0.004478425383916442, 'driving_license'), (0.003646895055101401, 'day_of_week'), (0.002815395058906401, 'travel_month'), (0.0025842824067378867, 'starttime_group'), (0.002343114338346557, 'trafficperc_group'), (0.0014501790188435673, 'cost_group'), (0.0011275373239208017, 'female'), (0.00020749585588240312, 'pt_interchanges'), (0.0, 'fueltype'), (0.0, 'car_ownership')]\n",
      "[['distance01']] [-0.00097775] ['distance_group'] 0\n",
      "i find new_split :  [['distance_group', ['distance01'], 0.00097775, 2]] left\n",
      "node_proportion_total  5.5517746473196546e-05\n",
      "Node_proportion_gain  -0.8543998176646805\n",
      "level 3\n",
      "level 3\n",
      "level 2\n",
      "ordered_list [(0.07663573066119374, 'distance_group'), (0.06856335990751261, 'costdrivingfuel_group'), (0.01997797463520661, 'trafficperc_group'), (0.015087837641702432, 'cost_group'), (0.015070452444894288, 'pt_interchanges'), (0.012366309997791444, 'purpose'), (0.006355172290207932, 'drivingcharge_group'), (0.005749417710221654, 'day_of_week'), (0.00553933512156835, 'bus_scale'), (0.004169910948169822, 'faretype'), (0.0037526087010078327, 'starttime_group'), (0.003048337880955509, 'driving_license'), (0.002689762510199239, 'female'), (0.002591019723784481, 'travel_month'), (0.002559778991649391, 'age_group'), (0.0, 'fueltype'), (0.0, 'car_ownership')]\n",
      "[['distance04', 'distance05', 'distance06', 'distance07', 'distance08', 'distance09', 'distance10', 'distance11']] [-0.00869252] ['distance_group'] 0\n",
      "i find new_split :  [['distance_group', ['distance04', 'distance05', 'distance06', 'distance07', 'distance08', 'distance09', 'distance10', 'distance11'], 0.00869252, 2]] right\n",
      "node_proportion_total  5.5517746473196546e-05\n",
      "Node_proportion_gain  0.0\n",
      "This split isn't good now i cut it\n"
     ]
    },
    {
     "data": {
      "text/plain": [
       "((None, (None, None)), ((None, None), None))"
      ]
     },
     "execution_count": 11,
     "metadata": {},
     "output_type": "execute_result"
    }
   ],
   "source": [
    "from cart import *\n",
    "\n",
    "my_tree = MyNodeClass('n1', indici) \n",
    "cart = CART(y,features,features_names,n_features,n_features_names,impurity_fn = \"gini\",problem=\"classifier\",method = \"LATENT-BUDGET-TREE\",max_level = 2, min_cases_parent= 1000,min_cases_child= 500) \n",
    "cart.growing_tree(my_tree, max_k = 4)\n"
   ]
  },
  {
   "cell_type": "code",
   "execution_count": 12,
   "metadata": {},
   "outputs": [],
   "source": [
    "X_test.reset_index(inplace = True, drop = True)\n",
    "y_test.reset_index(inplace = True, drop = True)\n",
    "\n",
    "X_test=X_test.applymap(str)\n",
    "#y_test=y_test.applymap(str)\n",
    "\n",
    "y_test = y_test[\"travel_mode\"] #y_test must be a series (not a dataframe)\n",
    "\n",
    "\n",
    "features_test = []\n",
    "n_features_test = X_test\n"
   ]
  },
  {
   "cell_type": "code",
   "execution_count": 13,
   "metadata": {},
   "outputs": [],
   "source": [
    "#to use eval, the datatype need to be str\n",
    "\n",
    "#alpha = cart.pruning(features_test, n_features_test, y_test)\n",
    "#cart.print_alpha(alpha) "
   ]
  },
  {
   "cell_type": "code",
   "execution_count": 14,
   "metadata": {},
   "outputs": [
    {
     "data": {
      "application/vnd.plotly.v1+json": {
       "config": {
        "plotlyServerURL": "https://plot.ly"
       },
       "data": [
        {
         "hoverinfo": "none",
         "line": {
          "color": "rgb(210,210,210)",
          "width": 1
         },
         "mode": "lines",
         "type": "scatter",
         "x": [
          0,
          -1.75,
          null,
          0,
          1.75,
          null,
          -1.75,
          -2.75,
          null,
          -1.75,
          -0.75,
          null,
          1.75,
          1.25,
          null,
          1.75,
          2.25,
          null,
          -0.75,
          -1.25,
          null,
          -0.75,
          -0.25,
          null,
          1.25,
          0.75,
          null,
          1.25,
          1.75,
          null
         ],
         "y": [
          6,
          5,
          null,
          6,
          5,
          null,
          5,
          4,
          null,
          5,
          4,
          null,
          5,
          4,
          null,
          5,
          4,
          null,
          4,
          3,
          null,
          4,
          3,
          null,
          4,
          3,
          null,
          4,
          3,
          null
         ]
        },
        {
         "hoverinfo": "text",
         "marker": {
          "color": "#6175c1",
          "line": {
           "color": "rgb(50,50,50)",
           "width": 1
          },
          "size": 18,
          "symbol": "circle-dot"
         },
         "mode": "markers",
         "name": "Nodes",
         "opacity": 0.8,
         "text": [
          "Class: {1: 0.48, 2: 0.03, 3: 0.05, 4: 0.43}, gini : 0.57, Samples : 11453",
          "Class: {1: 0.03, 2: 0.04, 3: 0.62, 4: 0.31}, gini : 0.52, Samples : 9612",
          "Class: {1: 0.05, 2: 0.02, 3: 0.2, 4: 0.73}, gini : 0.43, Samples : 32859",
          "Class: {1: 0.1, 2: 0.05, 3: 0.77, 4: 0.09}, gini : 0.39, Samples : 16307",
          "Class: {1: 0.63, 2: 0.03, 3: 0.28, 4: 0.06}, gini : 0.52, Samples : 3656",
          "Class: {1: 0.88, 2: 0.02, 3: 0.07, 4: 0.02}, gini : 0.21, Samples : 2216",
          "Class:{1: 0.18, 2: 0.03, 3: 0.35, 4: 0.44}, car_ownership in '['0']', gini : 0.65, Samples : 76103",
          "Class:{1: 0.14, 2: 0.02, 3: 0.24, 4: 0.59}, distance_group in '['distance04', 'distance05', 'distance06', 'distance07', 'distance08', 'distance09', 'distance10', 'distance11']', gini : 0.57, Samples : 53924",
          "Class:{1: 0.05, 2: 0.02, 3: 0.3, 4: 0.63}, trafficperc_group in '['0low_traffic', '1mediumlow_traffic', '2medium_traffic']', gini : 0.51, Samples : 42471",
          "Class:{1: 0.26, 2: 0.04, 3: 0.62, 4: 0.08}, distance_group in '['distance04', 'distance05', 'distance06', 'distance07', 'distance08', 'distance09', 'distance10', 'distance11']', gini : 0.54, Samples : 22179",
          "Class:{1: 0.73, 2: 0.03, 3: 0.2, 4: 0.05}, distance_group in '['distance01']', gini : 0.43, Samples : 5872"
         ],
         "type": "scatter",
         "x": [
          -2.75,
          -1.25,
          -0.25,
          2.25,
          0.75,
          1.75,
          0,
          -1.75,
          -0.75,
          1.75,
          1.25
         ],
         "y": [
          4,
          3,
          3,
          4,
          3,
          3,
          6,
          5,
          4,
          5,
          4
         ]
        }
       ],
       "layout": {
        "template": {
         "data": {
          "bar": [
           {
            "error_x": {
             "color": "#2a3f5f"
            },
            "error_y": {
             "color": "#2a3f5f"
            },
            "marker": {
             "line": {
              "color": "#E5ECF6",
              "width": 0.5
             },
             "pattern": {
              "fillmode": "overlay",
              "size": 10,
              "solidity": 0.2
             }
            },
            "type": "bar"
           }
          ],
          "barpolar": [
           {
            "marker": {
             "line": {
              "color": "#E5ECF6",
              "width": 0.5
             },
             "pattern": {
              "fillmode": "overlay",
              "size": 10,
              "solidity": 0.2
             }
            },
            "type": "barpolar"
           }
          ],
          "carpet": [
           {
            "aaxis": {
             "endlinecolor": "#2a3f5f",
             "gridcolor": "white",
             "linecolor": "white",
             "minorgridcolor": "white",
             "startlinecolor": "#2a3f5f"
            },
            "baxis": {
             "endlinecolor": "#2a3f5f",
             "gridcolor": "white",
             "linecolor": "white",
             "minorgridcolor": "white",
             "startlinecolor": "#2a3f5f"
            },
            "type": "carpet"
           }
          ],
          "choropleth": [
           {
            "colorbar": {
             "outlinewidth": 0,
             "ticks": ""
            },
            "type": "choropleth"
           }
          ],
          "contour": [
           {
            "colorbar": {
             "outlinewidth": 0,
             "ticks": ""
            },
            "colorscale": [
             [
              0,
              "#0d0887"
             ],
             [
              0.1111111111111111,
              "#46039f"
             ],
             [
              0.2222222222222222,
              "#7201a8"
             ],
             [
              0.3333333333333333,
              "#9c179e"
             ],
             [
              0.4444444444444444,
              "#bd3786"
             ],
             [
              0.5555555555555556,
              "#d8576b"
             ],
             [
              0.6666666666666666,
              "#ed7953"
             ],
             [
              0.7777777777777778,
              "#fb9f3a"
             ],
             [
              0.8888888888888888,
              "#fdca26"
             ],
             [
              1,
              "#f0f921"
             ]
            ],
            "type": "contour"
           }
          ],
          "contourcarpet": [
           {
            "colorbar": {
             "outlinewidth": 0,
             "ticks": ""
            },
            "type": "contourcarpet"
           }
          ],
          "heatmap": [
           {
            "colorbar": {
             "outlinewidth": 0,
             "ticks": ""
            },
            "colorscale": [
             [
              0,
              "#0d0887"
             ],
             [
              0.1111111111111111,
              "#46039f"
             ],
             [
              0.2222222222222222,
              "#7201a8"
             ],
             [
              0.3333333333333333,
              "#9c179e"
             ],
             [
              0.4444444444444444,
              "#bd3786"
             ],
             [
              0.5555555555555556,
              "#d8576b"
             ],
             [
              0.6666666666666666,
              "#ed7953"
             ],
             [
              0.7777777777777778,
              "#fb9f3a"
             ],
             [
              0.8888888888888888,
              "#fdca26"
             ],
             [
              1,
              "#f0f921"
             ]
            ],
            "type": "heatmap"
           }
          ],
          "heatmapgl": [
           {
            "colorbar": {
             "outlinewidth": 0,
             "ticks": ""
            },
            "colorscale": [
             [
              0,
              "#0d0887"
             ],
             [
              0.1111111111111111,
              "#46039f"
             ],
             [
              0.2222222222222222,
              "#7201a8"
             ],
             [
              0.3333333333333333,
              "#9c179e"
             ],
             [
              0.4444444444444444,
              "#bd3786"
             ],
             [
              0.5555555555555556,
              "#d8576b"
             ],
             [
              0.6666666666666666,
              "#ed7953"
             ],
             [
              0.7777777777777778,
              "#fb9f3a"
             ],
             [
              0.8888888888888888,
              "#fdca26"
             ],
             [
              1,
              "#f0f921"
             ]
            ],
            "type": "heatmapgl"
           }
          ],
          "histogram": [
           {
            "marker": {
             "pattern": {
              "fillmode": "overlay",
              "size": 10,
              "solidity": 0.2
             }
            },
            "type": "histogram"
           }
          ],
          "histogram2d": [
           {
            "colorbar": {
             "outlinewidth": 0,
             "ticks": ""
            },
            "colorscale": [
             [
              0,
              "#0d0887"
             ],
             [
              0.1111111111111111,
              "#46039f"
             ],
             [
              0.2222222222222222,
              "#7201a8"
             ],
             [
              0.3333333333333333,
              "#9c179e"
             ],
             [
              0.4444444444444444,
              "#bd3786"
             ],
             [
              0.5555555555555556,
              "#d8576b"
             ],
             [
              0.6666666666666666,
              "#ed7953"
             ],
             [
              0.7777777777777778,
              "#fb9f3a"
             ],
             [
              0.8888888888888888,
              "#fdca26"
             ],
             [
              1,
              "#f0f921"
             ]
            ],
            "type": "histogram2d"
           }
          ],
          "histogram2dcontour": [
           {
            "colorbar": {
             "outlinewidth": 0,
             "ticks": ""
            },
            "colorscale": [
             [
              0,
              "#0d0887"
             ],
             [
              0.1111111111111111,
              "#46039f"
             ],
             [
              0.2222222222222222,
              "#7201a8"
             ],
             [
              0.3333333333333333,
              "#9c179e"
             ],
             [
              0.4444444444444444,
              "#bd3786"
             ],
             [
              0.5555555555555556,
              "#d8576b"
             ],
             [
              0.6666666666666666,
              "#ed7953"
             ],
             [
              0.7777777777777778,
              "#fb9f3a"
             ],
             [
              0.8888888888888888,
              "#fdca26"
             ],
             [
              1,
              "#f0f921"
             ]
            ],
            "type": "histogram2dcontour"
           }
          ],
          "mesh3d": [
           {
            "colorbar": {
             "outlinewidth": 0,
             "ticks": ""
            },
            "type": "mesh3d"
           }
          ],
          "parcoords": [
           {
            "line": {
             "colorbar": {
              "outlinewidth": 0,
              "ticks": ""
             }
            },
            "type": "parcoords"
           }
          ],
          "pie": [
           {
            "automargin": true,
            "type": "pie"
           }
          ],
          "scatter": [
           {
            "fillpattern": {
             "fillmode": "overlay",
             "size": 10,
             "solidity": 0.2
            },
            "type": "scatter"
           }
          ],
          "scatter3d": [
           {
            "line": {
             "colorbar": {
              "outlinewidth": 0,
              "ticks": ""
             }
            },
            "marker": {
             "colorbar": {
              "outlinewidth": 0,
              "ticks": ""
             }
            },
            "type": "scatter3d"
           }
          ],
          "scattercarpet": [
           {
            "marker": {
             "colorbar": {
              "outlinewidth": 0,
              "ticks": ""
             }
            },
            "type": "scattercarpet"
           }
          ],
          "scattergeo": [
           {
            "marker": {
             "colorbar": {
              "outlinewidth": 0,
              "ticks": ""
             }
            },
            "type": "scattergeo"
           }
          ],
          "scattergl": [
           {
            "marker": {
             "colorbar": {
              "outlinewidth": 0,
              "ticks": ""
             }
            },
            "type": "scattergl"
           }
          ],
          "scattermapbox": [
           {
            "marker": {
             "colorbar": {
              "outlinewidth": 0,
              "ticks": ""
             }
            },
            "type": "scattermapbox"
           }
          ],
          "scatterpolar": [
           {
            "marker": {
             "colorbar": {
              "outlinewidth": 0,
              "ticks": ""
             }
            },
            "type": "scatterpolar"
           }
          ],
          "scatterpolargl": [
           {
            "marker": {
             "colorbar": {
              "outlinewidth": 0,
              "ticks": ""
             }
            },
            "type": "scatterpolargl"
           }
          ],
          "scatterternary": [
           {
            "marker": {
             "colorbar": {
              "outlinewidth": 0,
              "ticks": ""
             }
            },
            "type": "scatterternary"
           }
          ],
          "surface": [
           {
            "colorbar": {
             "outlinewidth": 0,
             "ticks": ""
            },
            "colorscale": [
             [
              0,
              "#0d0887"
             ],
             [
              0.1111111111111111,
              "#46039f"
             ],
             [
              0.2222222222222222,
              "#7201a8"
             ],
             [
              0.3333333333333333,
              "#9c179e"
             ],
             [
              0.4444444444444444,
              "#bd3786"
             ],
             [
              0.5555555555555556,
              "#d8576b"
             ],
             [
              0.6666666666666666,
              "#ed7953"
             ],
             [
              0.7777777777777778,
              "#fb9f3a"
             ],
             [
              0.8888888888888888,
              "#fdca26"
             ],
             [
              1,
              "#f0f921"
             ]
            ],
            "type": "surface"
           }
          ],
          "table": [
           {
            "cells": {
             "fill": {
              "color": "#EBF0F8"
             },
             "line": {
              "color": "white"
             }
            },
            "header": {
             "fill": {
              "color": "#C8D4E3"
             },
             "line": {
              "color": "white"
             }
            },
            "type": "table"
           }
          ]
         },
         "layout": {
          "annotationdefaults": {
           "arrowcolor": "#2a3f5f",
           "arrowhead": 0,
           "arrowwidth": 1
          },
          "autotypenumbers": "strict",
          "coloraxis": {
           "colorbar": {
            "outlinewidth": 0,
            "ticks": ""
           }
          },
          "colorscale": {
           "diverging": [
            [
             0,
             "#8e0152"
            ],
            [
             0.1,
             "#c51b7d"
            ],
            [
             0.2,
             "#de77ae"
            ],
            [
             0.3,
             "#f1b6da"
            ],
            [
             0.4,
             "#fde0ef"
            ],
            [
             0.5,
             "#f7f7f7"
            ],
            [
             0.6,
             "#e6f5d0"
            ],
            [
             0.7,
             "#b8e186"
            ],
            [
             0.8,
             "#7fbc41"
            ],
            [
             0.9,
             "#4d9221"
            ],
            [
             1,
             "#276419"
            ]
           ],
           "sequential": [
            [
             0,
             "#0d0887"
            ],
            [
             0.1111111111111111,
             "#46039f"
            ],
            [
             0.2222222222222222,
             "#7201a8"
            ],
            [
             0.3333333333333333,
             "#9c179e"
            ],
            [
             0.4444444444444444,
             "#bd3786"
            ],
            [
             0.5555555555555556,
             "#d8576b"
            ],
            [
             0.6666666666666666,
             "#ed7953"
            ],
            [
             0.7777777777777778,
             "#fb9f3a"
            ],
            [
             0.8888888888888888,
             "#fdca26"
            ],
            [
             1,
             "#f0f921"
            ]
           ],
           "sequentialminus": [
            [
             0,
             "#0d0887"
            ],
            [
             0.1111111111111111,
             "#46039f"
            ],
            [
             0.2222222222222222,
             "#7201a8"
            ],
            [
             0.3333333333333333,
             "#9c179e"
            ],
            [
             0.4444444444444444,
             "#bd3786"
            ],
            [
             0.5555555555555556,
             "#d8576b"
            ],
            [
             0.6666666666666666,
             "#ed7953"
            ],
            [
             0.7777777777777778,
             "#fb9f3a"
            ],
            [
             0.8888888888888888,
             "#fdca26"
            ],
            [
             1,
             "#f0f921"
            ]
           ]
          },
          "colorway": [
           "#636efa",
           "#EF553B",
           "#00cc96",
           "#ab63fa",
           "#FFA15A",
           "#19d3f3",
           "#FF6692",
           "#B6E880",
           "#FF97FF",
           "#FECB52"
          ],
          "font": {
           "color": "#2a3f5f"
          },
          "geo": {
           "bgcolor": "white",
           "lakecolor": "white",
           "landcolor": "#E5ECF6",
           "showlakes": true,
           "showland": true,
           "subunitcolor": "white"
          },
          "hoverlabel": {
           "align": "left"
          },
          "hovermode": "closest",
          "mapbox": {
           "style": "light"
          },
          "paper_bgcolor": "white",
          "plot_bgcolor": "#E5ECF6",
          "polar": {
           "angularaxis": {
            "gridcolor": "white",
            "linecolor": "white",
            "ticks": ""
           },
           "bgcolor": "#E5ECF6",
           "radialaxis": {
            "gridcolor": "white",
            "linecolor": "white",
            "ticks": ""
           }
          },
          "scene": {
           "xaxis": {
            "backgroundcolor": "#E5ECF6",
            "gridcolor": "white",
            "gridwidth": 2,
            "linecolor": "white",
            "showbackground": true,
            "ticks": "",
            "zerolinecolor": "white"
           },
           "yaxis": {
            "backgroundcolor": "#E5ECF6",
            "gridcolor": "white",
            "gridwidth": 2,
            "linecolor": "white",
            "showbackground": true,
            "ticks": "",
            "zerolinecolor": "white"
           },
           "zaxis": {
            "backgroundcolor": "#E5ECF6",
            "gridcolor": "white",
            "gridwidth": 2,
            "linecolor": "white",
            "showbackground": true,
            "ticks": "",
            "zerolinecolor": "white"
           }
          },
          "shapedefaults": {
           "line": {
            "color": "#2a3f5f"
           }
          },
          "ternary": {
           "aaxis": {
            "gridcolor": "white",
            "linecolor": "white",
            "ticks": ""
           },
           "baxis": {
            "gridcolor": "white",
            "linecolor": "white",
            "ticks": ""
           },
           "bgcolor": "#E5ECF6",
           "caxis": {
            "gridcolor": "white",
            "linecolor": "white",
            "ticks": ""
           }
          },
          "title": {
           "x": 0.05
          },
          "xaxis": {
           "automargin": true,
           "gridcolor": "white",
           "linecolor": "white",
           "ticks": "",
           "title": {
            "standoff": 15
           },
           "zerolinecolor": "white",
           "zerolinewidth": 2
          },
          "yaxis": {
           "automargin": true,
           "gridcolor": "white",
           "linecolor": "white",
           "ticks": "",
           "title": {
            "standoff": 15
           },
           "zerolinecolor": "white",
           "zerolinewidth": 2
          }
         }
        },
        "title": {
         "text": "CART_tree"
        }
       }
      }
     },
     "metadata": {},
     "output_type": "display_data"
    },
    {
     "data": {
      "text/html": [
       "<div>\n",
       "<style scoped>\n",
       "    .dataframe tbody tr th:only-of-type {\n",
       "        vertical-align: middle;\n",
       "    }\n",
       "\n",
       "    .dataframe tbody tr th {\n",
       "        vertical-align: top;\n",
       "    }\n",
       "\n",
       "    .dataframe thead th {\n",
       "        text-align: right;\n",
       "    }\n",
       "</style>\n",
       "<table border=\"1\" class=\"dataframe\">\n",
       "  <thead>\n",
       "    <tr style=\"text-align: right;\">\n",
       "      <th></th>\n",
       "      <th>Node</th>\n",
       "      <th>Node_type</th>\n",
       "      <th>Variable_split</th>\n",
       "      <th>n</th>\n",
       "      <th>Impurity_value</th>\n",
       "      <th>Class Probabilities</th>\n",
       "    </tr>\n",
       "  </thead>\n",
       "  <tbody>\n",
       "    <tr>\n",
       "      <th>0</th>\n",
       "      <td>n1</td>\n",
       "      <td>Parent</td>\n",
       "      <td>car_ownership in '['0']'</td>\n",
       "      <td>76103</td>\n",
       "      <td>0.65</td>\n",
       "      <td>{1: 0.18, 2: 0.03, 3: 0.35, 4: 0.44}</td>\n",
       "    </tr>\n",
       "    <tr>\n",
       "      <th>1</th>\n",
       "      <td>n2</td>\n",
       "      <td>Parent</td>\n",
       "      <td>distance_group in '['distance04', 'distance05', 'distance06', 'distance07', 'distance08', 'distance09', 'distance10', 'distance11']'</td>\n",
       "      <td>53924</td>\n",
       "      <td>0.57</td>\n",
       "      <td>{1: 0.14, 2: 0.02, 3: 0.24, 4: 0.59}</td>\n",
       "    </tr>\n",
       "    <tr>\n",
       "      <th>2</th>\n",
       "      <td>n4</td>\n",
       "      <td>Child</td>\n",
       "      <td>costdrivingfuel_group in '['costdrivingfuelgroup1', 'costdrivingfuelgroup10', 'costdrivingfuelgroup2', 'costdrivingfuelgroup3', 'costdrivingfuelgroup4', 'costdrivingfuelgroup5', 'costdrivingfuelgroup6', 'costdrivingfuelgroup7', 'costdrivingfuelgroup8']'</td>\n",
       "      <td>11453</td>\n",
       "      <td>0.57</td>\n",
       "      <td>{1: 0.48, 2: 0.03, 3: 0.05, 4: 0.43}</td>\n",
       "    </tr>\n",
       "    <tr>\n",
       "      <th>3</th>\n",
       "      <td>n5</td>\n",
       "      <td>Parent</td>\n",
       "      <td>trafficperc_group in '['0low_traffic', '1mediumlow_traffic', '2medium_traffic']'</td>\n",
       "      <td>42471</td>\n",
       "      <td>0.51</td>\n",
       "      <td>{1: 0.05, 2: 0.02, 3: 0.3, 4: 0.63}</td>\n",
       "    </tr>\n",
       "    <tr>\n",
       "      <th>4</th>\n",
       "      <td>n10</td>\n",
       "      <td>Child</td>\n",
       "      <td>None</td>\n",
       "      <td>9612</td>\n",
       "      <td>0.52</td>\n",
       "      <td>{1: 0.03, 2: 0.04, 3: 0.62, 4: 0.31}</td>\n",
       "    </tr>\n",
       "    <tr>\n",
       "      <th>5</th>\n",
       "      <td>n11</td>\n",
       "      <td>Child</td>\n",
       "      <td>None</td>\n",
       "      <td>32859</td>\n",
       "      <td>0.43</td>\n",
       "      <td>{1: 0.05, 2: 0.02, 3: 0.2, 4: 0.73}</td>\n",
       "    </tr>\n",
       "    <tr>\n",
       "      <th>6</th>\n",
       "      <td>n3</td>\n",
       "      <td>Parent</td>\n",
       "      <td>distance_group in '['distance04', 'distance05', 'distance06', 'distance07', 'distance08', 'distance09', 'distance10', 'distance11']'</td>\n",
       "      <td>22179</td>\n",
       "      <td>0.54</td>\n",
       "      <td>{1: 0.26, 2: 0.04, 3: 0.62, 4: 0.08}</td>\n",
       "    </tr>\n",
       "    <tr>\n",
       "      <th>7</th>\n",
       "      <td>n7</td>\n",
       "      <td>Child</td>\n",
       "      <td>distance_group in '['distance04', 'distance05', 'distance06', 'distance07', 'distance08', 'distance09', 'distance10', 'distance11']'</td>\n",
       "      <td>16307</td>\n",
       "      <td>0.39</td>\n",
       "      <td>{1: 0.1, 2: 0.05, 3: 0.77, 4: 0.09}</td>\n",
       "    </tr>\n",
       "    <tr>\n",
       "      <th>8</th>\n",
       "      <td>n6</td>\n",
       "      <td>Parent</td>\n",
       "      <td>distance_group in '['distance01']'</td>\n",
       "      <td>5872</td>\n",
       "      <td>0.43</td>\n",
       "      <td>{1: 0.73, 2: 0.03, 3: 0.2, 4: 0.05}</td>\n",
       "    </tr>\n",
       "    <tr>\n",
       "      <th>9</th>\n",
       "      <td>n12</td>\n",
       "      <td>Child</td>\n",
       "      <td>None</td>\n",
       "      <td>3656</td>\n",
       "      <td>0.52</td>\n",
       "      <td>{1: 0.63, 2: 0.03, 3: 0.28, 4: 0.06}</td>\n",
       "    </tr>\n",
       "    <tr>\n",
       "      <th>10</th>\n",
       "      <td>n13</td>\n",
       "      <td>Child</td>\n",
       "      <td>None</td>\n",
       "      <td>2216</td>\n",
       "      <td>0.21</td>\n",
       "      <td>{1: 0.88, 2: 0.02, 3: 0.07, 4: 0.02}</td>\n",
       "    </tr>\n",
       "  </tbody>\n",
       "</table>\n",
       "</div>"
      ],
      "text/plain": [
       "   Node Node_type  \\\n",
       "0    n1    Parent   \n",
       "1    n2    Parent   \n",
       "2    n4     Child   \n",
       "3    n5    Parent   \n",
       "4   n10     Child   \n",
       "5   n11     Child   \n",
       "6    n3    Parent   \n",
       "7    n7     Child   \n",
       "8    n6    Parent   \n",
       "9   n12     Child   \n",
       "10  n13     Child   \n",
       "\n",
       "                                                                                                                                                                                                                                                   Variable_split  \\\n",
       "0                                                                                                                                                                                                                                        car_ownership in '['0']'   \n",
       "1                                                                                                                            distance_group in '['distance04', 'distance05', 'distance06', 'distance07', 'distance08', 'distance09', 'distance10', 'distance11']'   \n",
       "2   costdrivingfuel_group in '['costdrivingfuelgroup1', 'costdrivingfuelgroup10', 'costdrivingfuelgroup2', 'costdrivingfuelgroup3', 'costdrivingfuelgroup4', 'costdrivingfuelgroup5', 'costdrivingfuelgroup6', 'costdrivingfuelgroup7', 'costdrivingfuelgroup8']'   \n",
       "3                                                                                                                                                                                trafficperc_group in '['0low_traffic', '1mediumlow_traffic', '2medium_traffic']'   \n",
       "4                                                                                                                                                                                                                                                            None   \n",
       "5                                                                                                                                                                                                                                                            None   \n",
       "6                                                                                                                            distance_group in '['distance04', 'distance05', 'distance06', 'distance07', 'distance08', 'distance09', 'distance10', 'distance11']'   \n",
       "7                                                                                                                            distance_group in '['distance04', 'distance05', 'distance06', 'distance07', 'distance08', 'distance09', 'distance10', 'distance11']'   \n",
       "8                                                                                                                                                                                                                              distance_group in '['distance01']'   \n",
       "9                                                                                                                                                                                                                                                            None   \n",
       "10                                                                                                                                                                                                                                                           None   \n",
       "\n",
       "        n  Impurity_value                   Class Probabilities  \n",
       "0   76103            0.65  {1: 0.18, 2: 0.03, 3: 0.35, 4: 0.44}  \n",
       "1   53924            0.57  {1: 0.14, 2: 0.02, 3: 0.24, 4: 0.59}  \n",
       "2   11453            0.57  {1: 0.48, 2: 0.03, 3: 0.05, 4: 0.43}  \n",
       "3   42471            0.51   {1: 0.05, 2: 0.02, 3: 0.3, 4: 0.63}  \n",
       "4    9612            0.52  {1: 0.03, 2: 0.04, 3: 0.62, 4: 0.31}  \n",
       "5   32859            0.43   {1: 0.05, 2: 0.02, 3: 0.2, 4: 0.73}  \n",
       "6   22179            0.54  {1: 0.26, 2: 0.04, 3: 0.62, 4: 0.08}  \n",
       "7   16307            0.39   {1: 0.1, 2: 0.05, 3: 0.77, 4: 0.09}  \n",
       "8    5872            0.43   {1: 0.73, 2: 0.03, 3: 0.2, 4: 0.05}  \n",
       "9    3656            0.52  {1: 0.63, 2: 0.03, 3: 0.28, 4: 0.06}  \n",
       "10   2216            0.21  {1: 0.88, 2: 0.02, 3: 0.07, 4: 0.02}  "
      ]
     },
     "execution_count": 14,
     "metadata": {},
     "output_type": "execute_result"
    }
   ],
   "source": [
    "\n",
    "pd.set_option('display.max_rows', None)\n",
    "pd.set_option('display.max_colwidth', 3000)\n",
    "\n",
    "\n",
    "cart.print_tree(table = True, html= False) #returns panda dataframe atm \n",
    "\n",
    "#all node is leaf, then fathers\n",
    "\n",
    "#can click and drag on graph to zoom in"
   ]
  },
  {
   "cell_type": "code",
   "execution_count": 15,
   "metadata": {},
   "outputs": [
    {
     "data": {
      "text/plain": [
       "{'0', '1', '2'}"
      ]
     },
     "execution_count": 15,
     "metadata": {},
     "output_type": "execute_result"
    }
   ],
   "source": [
    "set(n_features[\"car_ownership\"])"
   ]
  },
  {
   "cell_type": "code",
   "execution_count": 16,
   "metadata": {},
   "outputs": [
    {
     "name": "stdout",
     "output_type": "stream",
     "text": [
      "level 0\n",
      "i find new_split :  [['car_ownership', ('2', '1'), 0.13399232440569822, 0]] start\n",
      "node_proportion_total  2.3077407093437725e-05\n",
      "level 1\n",
      "i find new_split :  [['distance_group', ('distance01', 'distance02', 'distance03', 'distance04'), 0.2596484530717114, 1]] left\n",
      "node_proportion_total  3.0296196875331443e-05\n",
      "Node_proportion_gain  -0.902696542571712\n",
      "level 2\n",
      "i find new_split :  [['distance_group', ('distance05', 'distance06'), 0.034313336487000204, 2]] left\n",
      "node_proportion_total  3.959979420028552e-05\n",
      "Node_proportion_gain  -1.1633979368370417\n",
      "level 3\n",
      "level 3\n",
      "level 2\n",
      "i find new_split :  [['distance_group', ('distance01', 'distance02'), 0.09618524728113152, 2]] right\n",
      "node_proportion_total  4.803579605018784e-05\n",
      "Node_proportion_gain  -1.054906699476944\n",
      "level 3\n",
      "level 3\n",
      "level 1\n",
      "i find new_split :  [['distance_group', ('distance01', 'distance02', 'distance03'), 0.08504092945236022, 1]] right\n",
      "node_proportion_total  5.759496349068217e-05\n",
      "Node_proportion_gain  -1.1953565153042365\n",
      "level 2\n",
      "i find new_split :  [['trafficperc_group', ('3mediumhigh_traffic', '4high_traffic'), 0.11918391165239775, 2]] left\n",
      "node_proportion_total  6.67388680111229e-05\n",
      "Node_proportion_gain  -1.1434286418633408\n",
      "level 3\n",
      "level 3\n",
      "level 2\n",
      "i find new_split :  [['distance_group', ('distance10', 'distance01'), 0.0738226685644621, 2]] right\n",
      "node_proportion_total  7.561904540051556e-05\n",
      "Node_proportion_gain  -1.1104500434317066\n",
      "level 3\n",
      "level 3\n"
     ]
    },
    {
     "data": {
      "text/plain": [
       "(((None, None), (None, None)), ((None, None), (None, None)))"
      ]
     },
     "execution_count": 16,
     "metadata": {},
     "output_type": "execute_result"
    }
   ],
   "source": [
    "'''\n",
    "my_tree = MyNodeClass('n1', indici) \n",
    "cart = CART(y,features,features_names,n_features,n_features_names,impurity_fn = \"tau\",problem=\"classifier\",method = \"FAST\",max_level = 2, min_cases_parent= 1000,min_cases_child= 500) \n",
    "cart.growing_tree(my_tree)\n",
    "'''"
   ]
  },
  {
   "cell_type": "code",
   "execution_count": 17,
   "metadata": {},
   "outputs": [
    {
     "data": {
      "application/vnd.plotly.v1+json": {
       "config": {
        "plotlyServerURL": "https://plot.ly"
       },
       "data": [
        {
         "hoverinfo": "none",
         "line": {
          "color": "rgb(210,210,210)",
          "width": 1
         },
         "mode": "lines",
         "type": "scatter",
         "x": [
          0,
          -2,
          null,
          0,
          2,
          null,
          -2,
          -3,
          null,
          -2,
          -1,
          null,
          2,
          1,
          null,
          2,
          3,
          null,
          -3,
          -3.5,
          null,
          -3,
          -2.5,
          null,
          -1,
          -1.5,
          null,
          -1,
          -0.5,
          null,
          1,
          0.5,
          null,
          1,
          1.5,
          null,
          3,
          2.5,
          null,
          3,
          3.5,
          null
         ],
         "y": [
          6,
          5,
          null,
          6,
          5,
          null,
          5,
          4,
          null,
          5,
          4,
          null,
          5,
          4,
          null,
          5,
          4,
          null,
          4,
          3,
          null,
          4,
          3,
          null,
          4,
          3,
          null,
          4,
          3,
          null,
          4,
          3,
          null,
          4,
          3,
          null,
          4,
          3,
          null,
          4,
          3,
          null
         ]
        },
        {
         "hoverinfo": "text",
         "marker": {
          "color": "#6175c1",
          "line": {
           "color": "rgb(50,50,50)",
           "width": 1
          },
          "size": 18,
          "symbol": "circle-dot"
         },
         "mode": "markers",
         "name": "Nodes",
         "opacity": 0.8,
         "text": [
          "Class: 3, tau : 0.73, Samples : 10529",
          "Class: 3, tau : 0.49, Samples : 4204",
          "Class: 1, tau : 0.42, Samples : 3902",
          "Class: 1, tau : 0.7, Samples : 3544",
          "Class: 4, tau : 0.57, Samples : 32859",
          "Class: 3, tau : 0.48, Samples : 9612",
          "Class: 4, tau : 0.42, Samples : 7825",
          "Class: 1, tau : 0.57, Samples : 3628",
          "car_ownership in ('2', '1'), tau : 0.35, Samples : 76103",
          "distance_group in ('distance01', 'distance02', 'distance03', 'distance04'), tau : 0.46, Samples : 22179",
          "distance_group in ('distance05', 'distance06'), tau : 0.65, Samples : 14733",
          "distance_group in ('distance01', 'distance02'), tau : 0.5, Samples : 7446",
          "distance_group in ('distance01', 'distance02', 'distance03'), tau : 0.43, Samples : 53924",
          "trafficperc_group in ('3mediumhigh_traffic', '4high_traffic'), tau : 0.49, Samples : 42471",
          "distance_group in ('distance10', 'distance01'), tau : 0.43, Samples : 11453"
         ],
         "type": "scatter",
         "x": [
          -3.5,
          -2.5,
          -1.5,
          -0.5,
          0.5,
          1.5,
          2.5,
          3.5,
          0,
          -2,
          -3,
          -1,
          2,
          1,
          3
         ],
         "y": [
          3,
          3,
          3,
          3,
          3,
          3,
          3,
          3,
          6,
          5,
          4,
          4,
          5,
          4,
          4
         ]
        }
       ],
       "layout": {
        "template": {
         "data": {
          "bar": [
           {
            "error_x": {
             "color": "#2a3f5f"
            },
            "error_y": {
             "color": "#2a3f5f"
            },
            "marker": {
             "line": {
              "color": "#E5ECF6",
              "width": 0.5
             },
             "pattern": {
              "fillmode": "overlay",
              "size": 10,
              "solidity": 0.2
             }
            },
            "type": "bar"
           }
          ],
          "barpolar": [
           {
            "marker": {
             "line": {
              "color": "#E5ECF6",
              "width": 0.5
             },
             "pattern": {
              "fillmode": "overlay",
              "size": 10,
              "solidity": 0.2
             }
            },
            "type": "barpolar"
           }
          ],
          "carpet": [
           {
            "aaxis": {
             "endlinecolor": "#2a3f5f",
             "gridcolor": "white",
             "linecolor": "white",
             "minorgridcolor": "white",
             "startlinecolor": "#2a3f5f"
            },
            "baxis": {
             "endlinecolor": "#2a3f5f",
             "gridcolor": "white",
             "linecolor": "white",
             "minorgridcolor": "white",
             "startlinecolor": "#2a3f5f"
            },
            "type": "carpet"
           }
          ],
          "choropleth": [
           {
            "colorbar": {
             "outlinewidth": 0,
             "ticks": ""
            },
            "type": "choropleth"
           }
          ],
          "contour": [
           {
            "colorbar": {
             "outlinewidth": 0,
             "ticks": ""
            },
            "colorscale": [
             [
              0,
              "#0d0887"
             ],
             [
              0.1111111111111111,
              "#46039f"
             ],
             [
              0.2222222222222222,
              "#7201a8"
             ],
             [
              0.3333333333333333,
              "#9c179e"
             ],
             [
              0.4444444444444444,
              "#bd3786"
             ],
             [
              0.5555555555555556,
              "#d8576b"
             ],
             [
              0.6666666666666666,
              "#ed7953"
             ],
             [
              0.7777777777777778,
              "#fb9f3a"
             ],
             [
              0.8888888888888888,
              "#fdca26"
             ],
             [
              1,
              "#f0f921"
             ]
            ],
            "type": "contour"
           }
          ],
          "contourcarpet": [
           {
            "colorbar": {
             "outlinewidth": 0,
             "ticks": ""
            },
            "type": "contourcarpet"
           }
          ],
          "heatmap": [
           {
            "colorbar": {
             "outlinewidth": 0,
             "ticks": ""
            },
            "colorscale": [
             [
              0,
              "#0d0887"
             ],
             [
              0.1111111111111111,
              "#46039f"
             ],
             [
              0.2222222222222222,
              "#7201a8"
             ],
             [
              0.3333333333333333,
              "#9c179e"
             ],
             [
              0.4444444444444444,
              "#bd3786"
             ],
             [
              0.5555555555555556,
              "#d8576b"
             ],
             [
              0.6666666666666666,
              "#ed7953"
             ],
             [
              0.7777777777777778,
              "#fb9f3a"
             ],
             [
              0.8888888888888888,
              "#fdca26"
             ],
             [
              1,
              "#f0f921"
             ]
            ],
            "type": "heatmap"
           }
          ],
          "heatmapgl": [
           {
            "colorbar": {
             "outlinewidth": 0,
             "ticks": ""
            },
            "colorscale": [
             [
              0,
              "#0d0887"
             ],
             [
              0.1111111111111111,
              "#46039f"
             ],
             [
              0.2222222222222222,
              "#7201a8"
             ],
             [
              0.3333333333333333,
              "#9c179e"
             ],
             [
              0.4444444444444444,
              "#bd3786"
             ],
             [
              0.5555555555555556,
              "#d8576b"
             ],
             [
              0.6666666666666666,
              "#ed7953"
             ],
             [
              0.7777777777777778,
              "#fb9f3a"
             ],
             [
              0.8888888888888888,
              "#fdca26"
             ],
             [
              1,
              "#f0f921"
             ]
            ],
            "type": "heatmapgl"
           }
          ],
          "histogram": [
           {
            "marker": {
             "pattern": {
              "fillmode": "overlay",
              "size": 10,
              "solidity": 0.2
             }
            },
            "type": "histogram"
           }
          ],
          "histogram2d": [
           {
            "colorbar": {
             "outlinewidth": 0,
             "ticks": ""
            },
            "colorscale": [
             [
              0,
              "#0d0887"
             ],
             [
              0.1111111111111111,
              "#46039f"
             ],
             [
              0.2222222222222222,
              "#7201a8"
             ],
             [
              0.3333333333333333,
              "#9c179e"
             ],
             [
              0.4444444444444444,
              "#bd3786"
             ],
             [
              0.5555555555555556,
              "#d8576b"
             ],
             [
              0.6666666666666666,
              "#ed7953"
             ],
             [
              0.7777777777777778,
              "#fb9f3a"
             ],
             [
              0.8888888888888888,
              "#fdca26"
             ],
             [
              1,
              "#f0f921"
             ]
            ],
            "type": "histogram2d"
           }
          ],
          "histogram2dcontour": [
           {
            "colorbar": {
             "outlinewidth": 0,
             "ticks": ""
            },
            "colorscale": [
             [
              0,
              "#0d0887"
             ],
             [
              0.1111111111111111,
              "#46039f"
             ],
             [
              0.2222222222222222,
              "#7201a8"
             ],
             [
              0.3333333333333333,
              "#9c179e"
             ],
             [
              0.4444444444444444,
              "#bd3786"
             ],
             [
              0.5555555555555556,
              "#d8576b"
             ],
             [
              0.6666666666666666,
              "#ed7953"
             ],
             [
              0.7777777777777778,
              "#fb9f3a"
             ],
             [
              0.8888888888888888,
              "#fdca26"
             ],
             [
              1,
              "#f0f921"
             ]
            ],
            "type": "histogram2dcontour"
           }
          ],
          "mesh3d": [
           {
            "colorbar": {
             "outlinewidth": 0,
             "ticks": ""
            },
            "type": "mesh3d"
           }
          ],
          "parcoords": [
           {
            "line": {
             "colorbar": {
              "outlinewidth": 0,
              "ticks": ""
             }
            },
            "type": "parcoords"
           }
          ],
          "pie": [
           {
            "automargin": true,
            "type": "pie"
           }
          ],
          "scatter": [
           {
            "fillpattern": {
             "fillmode": "overlay",
             "size": 10,
             "solidity": 0.2
            },
            "type": "scatter"
           }
          ],
          "scatter3d": [
           {
            "line": {
             "colorbar": {
              "outlinewidth": 0,
              "ticks": ""
             }
            },
            "marker": {
             "colorbar": {
              "outlinewidth": 0,
              "ticks": ""
             }
            },
            "type": "scatter3d"
           }
          ],
          "scattercarpet": [
           {
            "marker": {
             "colorbar": {
              "outlinewidth": 0,
              "ticks": ""
             }
            },
            "type": "scattercarpet"
           }
          ],
          "scattergeo": [
           {
            "marker": {
             "colorbar": {
              "outlinewidth": 0,
              "ticks": ""
             }
            },
            "type": "scattergeo"
           }
          ],
          "scattergl": [
           {
            "marker": {
             "colorbar": {
              "outlinewidth": 0,
              "ticks": ""
             }
            },
            "type": "scattergl"
           }
          ],
          "scattermapbox": [
           {
            "marker": {
             "colorbar": {
              "outlinewidth": 0,
              "ticks": ""
             }
            },
            "type": "scattermapbox"
           }
          ],
          "scatterpolar": [
           {
            "marker": {
             "colorbar": {
              "outlinewidth": 0,
              "ticks": ""
             }
            },
            "type": "scatterpolar"
           }
          ],
          "scatterpolargl": [
           {
            "marker": {
             "colorbar": {
              "outlinewidth": 0,
              "ticks": ""
             }
            },
            "type": "scatterpolargl"
           }
          ],
          "scatterternary": [
           {
            "marker": {
             "colorbar": {
              "outlinewidth": 0,
              "ticks": ""
             }
            },
            "type": "scatterternary"
           }
          ],
          "surface": [
           {
            "colorbar": {
             "outlinewidth": 0,
             "ticks": ""
            },
            "colorscale": [
             [
              0,
              "#0d0887"
             ],
             [
              0.1111111111111111,
              "#46039f"
             ],
             [
              0.2222222222222222,
              "#7201a8"
             ],
             [
              0.3333333333333333,
              "#9c179e"
             ],
             [
              0.4444444444444444,
              "#bd3786"
             ],
             [
              0.5555555555555556,
              "#d8576b"
             ],
             [
              0.6666666666666666,
              "#ed7953"
             ],
             [
              0.7777777777777778,
              "#fb9f3a"
             ],
             [
              0.8888888888888888,
              "#fdca26"
             ],
             [
              1,
              "#f0f921"
             ]
            ],
            "type": "surface"
           }
          ],
          "table": [
           {
            "cells": {
             "fill": {
              "color": "#EBF0F8"
             },
             "line": {
              "color": "white"
             }
            },
            "header": {
             "fill": {
              "color": "#C8D4E3"
             },
             "line": {
              "color": "white"
             }
            },
            "type": "table"
           }
          ]
         },
         "layout": {
          "annotationdefaults": {
           "arrowcolor": "#2a3f5f",
           "arrowhead": 0,
           "arrowwidth": 1
          },
          "autotypenumbers": "strict",
          "coloraxis": {
           "colorbar": {
            "outlinewidth": 0,
            "ticks": ""
           }
          },
          "colorscale": {
           "diverging": [
            [
             0,
             "#8e0152"
            ],
            [
             0.1,
             "#c51b7d"
            ],
            [
             0.2,
             "#de77ae"
            ],
            [
             0.3,
             "#f1b6da"
            ],
            [
             0.4,
             "#fde0ef"
            ],
            [
             0.5,
             "#f7f7f7"
            ],
            [
             0.6,
             "#e6f5d0"
            ],
            [
             0.7,
             "#b8e186"
            ],
            [
             0.8,
             "#7fbc41"
            ],
            [
             0.9,
             "#4d9221"
            ],
            [
             1,
             "#276419"
            ]
           ],
           "sequential": [
            [
             0,
             "#0d0887"
            ],
            [
             0.1111111111111111,
             "#46039f"
            ],
            [
             0.2222222222222222,
             "#7201a8"
            ],
            [
             0.3333333333333333,
             "#9c179e"
            ],
            [
             0.4444444444444444,
             "#bd3786"
            ],
            [
             0.5555555555555556,
             "#d8576b"
            ],
            [
             0.6666666666666666,
             "#ed7953"
            ],
            [
             0.7777777777777778,
             "#fb9f3a"
            ],
            [
             0.8888888888888888,
             "#fdca26"
            ],
            [
             1,
             "#f0f921"
            ]
           ],
           "sequentialminus": [
            [
             0,
             "#0d0887"
            ],
            [
             0.1111111111111111,
             "#46039f"
            ],
            [
             0.2222222222222222,
             "#7201a8"
            ],
            [
             0.3333333333333333,
             "#9c179e"
            ],
            [
             0.4444444444444444,
             "#bd3786"
            ],
            [
             0.5555555555555556,
             "#d8576b"
            ],
            [
             0.6666666666666666,
             "#ed7953"
            ],
            [
             0.7777777777777778,
             "#fb9f3a"
            ],
            [
             0.8888888888888888,
             "#fdca26"
            ],
            [
             1,
             "#f0f921"
            ]
           ]
          },
          "colorway": [
           "#636efa",
           "#EF553B",
           "#00cc96",
           "#ab63fa",
           "#FFA15A",
           "#19d3f3",
           "#FF6692",
           "#B6E880",
           "#FF97FF",
           "#FECB52"
          ],
          "font": {
           "color": "#2a3f5f"
          },
          "geo": {
           "bgcolor": "white",
           "lakecolor": "white",
           "landcolor": "#E5ECF6",
           "showlakes": true,
           "showland": true,
           "subunitcolor": "white"
          },
          "hoverlabel": {
           "align": "left"
          },
          "hovermode": "closest",
          "mapbox": {
           "style": "light"
          },
          "paper_bgcolor": "white",
          "plot_bgcolor": "#E5ECF6",
          "polar": {
           "angularaxis": {
            "gridcolor": "white",
            "linecolor": "white",
            "ticks": ""
           },
           "bgcolor": "#E5ECF6",
           "radialaxis": {
            "gridcolor": "white",
            "linecolor": "white",
            "ticks": ""
           }
          },
          "scene": {
           "xaxis": {
            "backgroundcolor": "#E5ECF6",
            "gridcolor": "white",
            "gridwidth": 2,
            "linecolor": "white",
            "showbackground": true,
            "ticks": "",
            "zerolinecolor": "white"
           },
           "yaxis": {
            "backgroundcolor": "#E5ECF6",
            "gridcolor": "white",
            "gridwidth": 2,
            "linecolor": "white",
            "showbackground": true,
            "ticks": "",
            "zerolinecolor": "white"
           },
           "zaxis": {
            "backgroundcolor": "#E5ECF6",
            "gridcolor": "white",
            "gridwidth": 2,
            "linecolor": "white",
            "showbackground": true,
            "ticks": "",
            "zerolinecolor": "white"
           }
          },
          "shapedefaults": {
           "line": {
            "color": "#2a3f5f"
           }
          },
          "ternary": {
           "aaxis": {
            "gridcolor": "white",
            "linecolor": "white",
            "ticks": ""
           },
           "baxis": {
            "gridcolor": "white",
            "linecolor": "white",
            "ticks": ""
           },
           "bgcolor": "#E5ECF6",
           "caxis": {
            "gridcolor": "white",
            "linecolor": "white",
            "ticks": ""
           }
          },
          "title": {
           "x": 0.05
          },
          "xaxis": {
           "automargin": true,
           "gridcolor": "white",
           "linecolor": "white",
           "ticks": "",
           "title": {
            "standoff": 15
           },
           "zerolinecolor": "white",
           "zerolinewidth": 2
          },
          "yaxis": {
           "automargin": true,
           "gridcolor": "white",
           "linecolor": "white",
           "ticks": "",
           "title": {
            "standoff": 15
           },
           "zerolinecolor": "white",
           "zerolinewidth": 2
          }
         }
        },
        "title": {
         "text": "CART_tree"
        }
       }
      }
     },
     "metadata": {},
     "output_type": "display_data"
    }
   ],
   "source": [
    "cart.print_tree(table = False, html= False) #returns panda dataframe atm \n"
   ]
  },
  {
   "cell_type": "code",
   "execution_count": 18,
   "metadata": {},
   "outputs": [],
   "source": [
    "# Error in solve.default(Tb) : 'a' (4 x 2) must be square"
   ]
  },
  {
   "cell_type": "code",
   "execution_count": 19,
   "metadata": {},
   "outputs": [
    {
     "data": {
      "text/plain": [
       "'\\nutils = importr(\\'utils\\')  \\nutils.chooseCRANmirror(ind=1) \\nutils.install_packages(\"lba\")\\nlba = importr(\"lba\")\\nbase = importr(\\'base\\')\\n'"
      ]
     },
     "execution_count": 19,
     "metadata": {},
     "output_type": "execute_result"
    }
   ],
   "source": [
    "import rpy2.robjects as robjects\n",
    "from rpy2.robjects.packages import importr, data\n",
    "\n",
    "#sink(\"/dev/null\")    # now suppresses\n",
    "#sink()  \n",
    "\n",
    "robjects.r(\"library(utils, quietly = TRUE)\")\n",
    "robjects.r(\"library(base, quietly = TRUE)\")\n",
    "robjects.r(\"suppressWarnings(install.packages('lba', quiet = TRUE))\")\n",
    "robjects.r(\"suppressMessages(library(lba, quietly = TRUE))\")\n",
    "\n",
    "\n",
    "#capture.output(cat(\"Hi\\n\"), file = nullfile())\n",
    "\n",
    "\n",
    "'''\n",
    "utils = importr('utils')  \n",
    "utils.chooseCRANmirror(ind=1) \n",
    "utils.install_packages(\"lba\")\n",
    "lba = importr(\"lba\")\n",
    "base = importr('base')\n",
    "'''\n",
    "\n"
   ]
  },
  {
   "cell_type": "code",
   "execution_count": 20,
   "metadata": {},
   "outputs": [],
   "source": [
    "\n",
    "cont = pd.crosstab(index = n_features[\"distance_group\"], columns= y, normalize = 'index')\n",
    "#converts into an r dataframe\n",
    "with (robjects.default_converter + pandas2ri.converter).context():\n",
    "    cont_r = robjects.conversion.get_conversion().py2rpy(cont)"
   ]
  },
  {
   "cell_type": "code",
   "execution_count": 21,
   "metadata": {},
   "outputs": [
    {
     "name": "stdout",
     "output_type": "stream",
     "text": [
      "[1] 0.04655422\n",
      "\n"
     ]
    }
   ],
   "source": [
    "robjects.r.assign(\"cont_r\", cont_r)\n",
    "robjects.r(\"cont_r <-  as.matrix(cont_r)\")\n",
    "\n",
    "robjects.r(\"out <- lba(cont_r, K = 2 , what = 'outer', method = 'ls', trace.lba = FALSE)\")\n",
    "print(robjects.r(\"out$val_func\"))\n",
    "\n",
    "robjects.r(\"error <- out$val_func\")\n",
    "robjects.r(\"alpha <- out$A\")\n",
    "robjects.r(\"beta <- out$B\")\n",
    "\n",
    "#out = lba.lba(base.as_matrix(cont_r), K = 2 , what = 'outer', method = 'ls')"
   ]
  },
  {
   "cell_type": "code",
   "execution_count": 22,
   "metadata": {},
   "outputs": [
    {
     "data": {
      "text/plain": [
       "array([[1.00000000e-05, 1.04221785e+00],\n",
       "       [2.39506090e-01, 7.60493910e-01],\n",
       "       [4.30284935e-01, 5.69715065e-01],\n",
       "       [6.19840044e-01, 3.80159956e-01],\n",
       "       [7.76579776e-01, 2.23420224e-01],\n",
       "       [8.64604575e-01, 1.35395425e-01],\n",
       "       [9.33930790e-01, 6.60692096e-02],\n",
       "       [9.68200365e-01, 3.17996347e-02],\n",
       "       [9.98007599e-01, 1.99240135e-03],\n",
       "       [1.03366841e+00, 1.00000000e-05],\n",
       "       [1.04687187e+00, 1.00000000e-05]])"
      ]
     },
     "execution_count": 22,
     "metadata": {},
     "output_type": "execute_result"
    }
   ],
   "source": [
    "alpha  = robjects.r('alpha')\n",
    "alpha=np.asarray(alpha)\n",
    "alpha"
   ]
  },
  {
   "cell_type": "code",
   "execution_count": 23,
   "metadata": {},
   "outputs": [],
   "source": [
    "robjects.r(\"library(utils)\")\n",
    "robjects.r(\"library(base)\")\n",
    "robjects.r(\"library(lba)\")\n",
    "\n"
   ]
  }
 ],
 "metadata": {
  "kernelspec": {
   "display_name": "base",
   "language": "python",
   "name": "python3"
  },
  "language_info": {
   "codemirror_mode": {
    "name": "ipython",
    "version": 3
   },
   "file_extension": ".py",
   "mimetype": "text/x-python",
   "name": "python",
   "nbconvert_exporter": "python",
   "pygments_lexer": "ipython3",
   "version": "3.8.15"
  },
  "orig_nbformat": 4
 },
 "nbformat": 4,
 "nbformat_minor": 2
}
